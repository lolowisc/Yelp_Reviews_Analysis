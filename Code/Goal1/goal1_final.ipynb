{
 "cells": [
  {
   "cell_type": "code",
   "execution_count": 1,
   "metadata": {},
   "outputs": [
    {
     "name": "stderr",
     "output_type": "stream",
     "text": [
      "/anaconda3/lib/python3.6/site-packages/h5py/__init__.py:36: FutureWarning: Conversion of the second argument of issubdtype from `float` to `np.floating` is deprecated. In future, it will be treated as `np.float64 == np.dtype(float).type`.\n",
      "  from ._conv import register_converters as _register_converters\n",
      "Using TensorFlow backend.\n"
     ]
    }
   ],
   "source": [
    "import pandas as pd\n",
    "import numpy as np\n",
    "import nltk\n",
    "import re\n",
    "from nltk.tokenize import word_tokenize, sent_tokenize\n",
    "from nltk.corpus import stopwords\n",
    "import json as js\n",
    "import matplotlib.pyplot as plt\n",
    "import seaborn as sns\n",
    "from sklearn.cluster import KMeans\n",
    "from sklearn.model_selection import train_test_split\n",
    "from sklearn.model_selection import GridSearchCV\n",
    "from sklearn.feature_extraction.text import CountVectorizer  \n",
    "from sklearn.feature_extraction.text import TfidfTransformer  \n",
    "from sklearn.feature_extraction.text import TfidfVectorizer\n",
    "from keras.preprocessing.text import Tokenizer\n",
    "from nltk.corpus import stopwords\n",
    "from nltk.stem import WordNetLemmatizer \n",
    "from nltk.stem import SnowballStemmer\n",
    "from sklearn.metrics import mean_squared_error\n",
    "from keras.models import load_model\n",
    "from sklearn.preprocessing import OneHotEncoder\n",
    "from itertools import compress\n",
    "from sklearn.linear_model import LogisticRegression\n",
    "from sklearn.externals import joblib\n",
    "import heapq\n",
    "from sklearn.linear_model import LinearRegression\n",
    "pd.set_option('display.max_columns', None) # see the full cols"
   ]
  },
  {
   "cell_type": "markdown",
   "metadata": {},
   "source": [
    "# 1.Data Proc"
   ]
  },
  {
   "cell_type": "markdown",
   "metadata": {},
   "source": [
    "## (0).Import data"
   ]
  },
  {
   "cell_type": "code",
   "execution_count": 2,
   "metadata": {},
   "outputs": [],
   "source": [
    "def sentenceClean(x):\n",
    "    result = x.lower()\n",
    "    result = re.sub('pretty|very|always|food|chinese', ' ', result)\n",
    "    result = re.sub('not so', 'not', result)\n",
    "    result = re.sub('high\\squality', 'great', result)\n",
    "    result = re.sub('low\\squality', 'bad', result)\n",
    "    result = re.sub('n\\'t\\s', ' not', result)\n",
    "    result = re.sub('\\sstars|\\sstar', 'stars', result)\n",
    "    result = re.sub('0stars', 'zerostars', result)\n",
    "    result = re.sub('1stars', 'onestars', result)\n",
    "    result = re.sub('2stars', 'twostars', result)\n",
    "    result = re.sub('3stars', 'threestars', result)\n",
    "    result = re.sub('4stars', 'fourstars', result)\n",
    "    result = re.sub('5stars', 'fivestars', result)\n",
    "    result = re.sub('not\\s', ' not', result)\n",
    "    result = re.sub('never\\s', ' not', result)\n",
    "    return result"
   ]
  },
  {
   "cell_type": "code",
   "execution_count": 4,
   "metadata": {},
   "outputs": [],
   "source": [
    "def sentenceClean2(x):\n",
    "    result = x.lower()\n",
    "    result = re.sub('as (\\w+?) as', '\\\\1', result)\n",
    "    result = re.sub('not only (\\w+?), but also', '\\\\1 and ', result)\n",
    "    result = re.sub('\\'s|\\'m|\\'re|\\'d|\\'ll|\\'ve', ' ', result)\n",
    "    result = re.sub('fast food', 'fastfood', result)\n",
    "    result = re.sub('pretty|very|always|food|chinese', ' ', result)\n",
    "    result = re.sub('high\\squality', 'great', result)\n",
    "    result = re.sub('low\\squality', 'bad', result)\n",
    "    result = re.sub('[\\.,\\(\\)\\+:!\\?#]', ' ', result)\n",
    "    result = re.sub('n\\'t\\s', ' not', result)\n",
    "    result = re.sub('\\sstars|\\sstar', 'stars', result)\n",
    "    result = re.sub('0stars', 'zerostars', result)\n",
    "    result = re.sub('1stars', 'onestars', result)\n",
    "    result = re.sub('2stars', 'twostars', result)\n",
    "    result = re.sub('3stars', 'threestars', result)\n",
    "    result = re.sub('4stars', 'fourstars', result)\n",
    "    result = re.sub('5stars', 'fivestars', result)\n",
    "    result = re.sub('\\\\d|\\$', '', result)\n",
    "    result = re.sub('not\\s', ' not', result)\n",
    "    result = re.sub('never\\s', ' not', result)\n",
    "    result = re.sub('-',' ', result)  #\n",
    "    result = ' '.join([w for w in word_tokenize(result) if w in list(adjs_final['adj'])]) #\n",
    "    return result"
   ]
  },
  {
   "cell_type": "code",
   "execution_count": 5,
   "metadata": {},
   "outputs": [],
   "source": [
    "def sentenceClean3(x):\n",
    "    result = xlower()\n",
    "    result = re.sub('as (\\w+?) as', '\\\\1', result)\n",
    "    result = re.sub('not only (\\w+?), but also', '\\\\1 and ', result)\n",
    "    result = re.sub('but\\s', ' duanju ', result)\n",
    "    result = re.sub('otherwise\\s', ' duanju ', result)\n",
    "    result = re.sub('[\\.,!\\?]', ' duanju ', result)\n",
    "    result = re.sub('high\\squality', 'great', result)\n",
    "    result = re.sub('low\\squality', 'bad', result)\n",
    "    result = re.sub('fast food', 'fastfood', result)\n",
    "    result = re.sub('n\\'t\\s', ' not', result)\n",
    "    result = re.sub('\\sstars|\\sstar', 'stars', result)\n",
    "    result = re.sub('0stars', 'zerostars', result)\n",
    "    result = re.sub('1stars', 'onestars', result)\n",
    "    result = re.sub('2stars', 'twostars', result)\n",
    "    result = re.sub('3stars', 'threestars', result)\n",
    "    result = re.sub('4stars', 'fourstars', result)\n",
    "    result = re.sub('5stars', 'fivestars', result)\n",
    "    result = re.sub('not\\s', ' not', result)\n",
    "    result = re.sub('never\\s', ' never', result)\n",
    "    result = re.sub(r'\\n', ' ', result) ##################\n",
    "    return result"
   ]
  },
  {
   "cell_type": "code",
   "execution_count": 6,
   "metadata": {},
   "outputs": [],
   "source": [
    "def sentenceClean4(x):\n",
    "    result = x.lower()\n",
    "    result = re.sub('as (\\w+?) as', '\\\\1', result)\n",
    "    result = re.sub('not only (\\w+?), but also', '\\\\1 and ', result)\n",
    "    result = re.sub('\\'s|\\'m|\\'re|\\'d|\\'ll|\\'ve', ' ', result)\n",
    "    result = re.sub('fast food', 'fastfood', result)\n",
    "    result = re.sub('pretty|very|always|food|chinese', ' ', result)\n",
    "    result = re.sub('high\\squality', 'great', result)\n",
    "    result = re.sub('low\\squality', 'bad', result)\n",
    "    result = re.sub('[\\.,\\(\\)\\+:!\\?#]', ' ', result)\n",
    "    result = re.sub('n\\'t\\s', ' not', result)\n",
    "    result = re.sub('\\sstars|\\sstar', 'stars', result)\n",
    "    result = re.sub('0stars', 'zerostars', result)\n",
    "    result = re.sub('1stars', 'onestars', result)\n",
    "    result = re.sub('2stars', 'twostars', result)\n",
    "    result = re.sub('3stars', 'threestars', result)\n",
    "    result = re.sub('4stars', 'fourstars', result)\n",
    "    result = re.sub('5stars', 'fivestars', result)\n",
    "    result = re.sub('\\\\d|\\$', '', result)\n",
    "    result = re.sub('not\\s', ' not', result)\n",
    "    result = re.sub('never\\s', ' not', result)\n",
    "    result = re.sub('-',' ', result)\n",
    "    result = ' '.join([w for w in word_tokenize(result) if w in adjs]) #\n",
    "    return result"
   ]
  },
  {
   "cell_type": "code",
   "execution_count": 4,
   "metadata": {},
   "outputs": [],
   "source": [
    "text_all  = pd.read_csv('../../../../Module2/Yelp_prediction/chinese_review.csv')"
   ]
  },
  {
   "cell_type": "code",
   "execution_count": 5,
   "metadata": {},
   "outputs": [],
   "source": [
    "text = pd.read_csv('../../../../Module2/Yelp_prediction/chi_review_only.csv')"
   ]
  },
  {
   "cell_type": "markdown",
   "metadata": {},
   "source": [
    "### (a).Extract QQ Express"
   ]
  },
  {
   "cell_type": "code",
   "execution_count": 6,
   "metadata": {},
   "outputs": [],
   "source": [
    "c = text_all['business_id'] == 190967"
   ]
  },
  {
   "cell_type": "code",
   "execution_count": 7,
   "metadata": {},
   "outputs": [],
   "source": [
    "qq_all = text_all[c]"
   ]
  },
  {
   "cell_type": "code",
   "execution_count": 8,
   "metadata": {},
   "outputs": [],
   "source": [
    "qq_raw = pd.DataFrame(qq_all['text'],columns=['text'])"
   ]
  },
  {
   "cell_type": "code",
   "execution_count": 9,
   "metadata": {},
   "outputs": [],
   "source": [
    "qq_raw.index = range(qq_raw.shape[0])"
   ]
  },
  {
   "cell_type": "code",
   "execution_count": 17,
   "metadata": {},
   "outputs": [],
   "source": [
    "qq_text = pd.DataFrame(qq_raw['text'].apply(sentenceClean3),columns=['text'])"
   ]
  },
  {
   "cell_type": "markdown",
   "metadata": {},
   "source": [
    "### (b).Extract Chineses restaurant in Madison"
   ]
  },
  {
   "cell_type": "code",
   "execution_count": 18,
   "metadata": {},
   "outputs": [],
   "source": [
    "mad_chi = pd.read_csv('mad_chi_text.csv')"
   ]
  },
  {
   "cell_type": "code",
   "execution_count": 19,
   "metadata": {},
   "outputs": [],
   "source": [
    "mad_chi['text'] = mad_chi['text'].apply(sentenceClean3)"
   ]
  },
  {
   "cell_type": "code",
   "execution_count": 20,
   "metadata": {},
   "outputs": [],
   "source": [
    "y = pd.value_counts(mad_chi['business_id'])"
   ]
  },
  {
   "cell_type": "code",
   "execution_count": 21,
   "metadata": {},
   "outputs": [],
   "source": [
    "y_reserved = list(compress(list(y.index),list(y.values>50))) #num of reviews>50"
   ]
  },
  {
   "cell_type": "code",
   "execution_count": 22,
   "metadata": {},
   "outputs": [],
   "source": [
    "con = []\n",
    "for i in range(mad_chi.shape[0]):\n",
    "    if mad_chi['business_id'].iloc[i] in y_reserved:\n",
    "        con.append(True)\n",
    "    else:\n",
    "        con.append(False)"
   ]
  },
  {
   "cell_type": "code",
   "execution_count": 23,
   "metadata": {},
   "outputs": [],
   "source": [
    "mad_chi_final = mad_chi[con]"
   ]
  },
  {
   "cell_type": "markdown",
   "metadata": {},
   "source": [
    "### (c).Extract stars"
   ]
  },
  {
   "cell_type": "code",
   "execution_count": 24,
   "metadata": {},
   "outputs": [],
   "source": [
    "text_stars = pd.DataFrame(text_all.stars)"
   ]
  },
  {
   "cell_type": "markdown",
   "metadata": {},
   "source": [
    "## (1).Extract adjs"
   ]
  },
  {
   "cell_type": "code",
   "execution_count": 25,
   "metadata": {},
   "outputs": [],
   "source": [
    "uselesslst = list(set(stopwords.words('english')).difference(set(['no','nor','not'])))"
   ]
  },
  {
   "cell_type": "code",
   "execution_count": 26,
   "metadata": {},
   "outputs": [],
   "source": [
    "text_first =  pd.DataFrame(text['text'].apply(sentenceClean))"
   ]
  },
  {
   "cell_type": "code",
   "execution_count": 27,
   "metadata": {},
   "outputs": [],
   "source": [
    "adjList = ['JJ','JJR','JJS','RB','RBR','RBS','VBN'] "
   ]
  },
  {
   "cell_type": "code",
   "execution_count": 28,
   "metadata": {},
   "outputs": [],
   "source": [
    "def detect_adj(x):\n",
    "    tst = []\n",
    "    orig = nltk.pos_tag(word_tokenize(x))\n",
    "    for i in range(len(orig)):\n",
    "        if orig[i][1] in adjList:\n",
    "            tst.append(orig[i][0])\n",
    "    return tst"
   ]
  },
  {
   "cell_type": "code",
   "execution_count": 29,
   "metadata": {},
   "outputs": [],
   "source": [
    "allText = '. '.join(text_first.text)"
   ]
  },
  {
   "cell_type": "code",
   "execution_count": 30,
   "metadata": {},
   "outputs": [],
   "source": [
    "alladjs = detect_adj(allText)"
   ]
  },
  {
   "cell_type": "code",
   "execution_count": 31,
   "metadata": {},
   "outputs": [],
   "source": [
    "alladjs_f =  [var for var in alladjs if var not in uselesslst]"
   ]
  },
  {
   "cell_type": "code",
   "execution_count": 32,
   "metadata": {},
   "outputs": [],
   "source": [
    "alladjs_s = []\n",
    "for i in range(len(alladjs_f)):\n",
    "    alladjs_s.append(re.sub('[^a-z]', '',alladjs_f[i]))   # remove the items which are not character in adjs"
   ]
  },
  {
   "cell_type": "code",
   "execution_count": 33,
   "metadata": {},
   "outputs": [],
   "source": [
    "ind = []\n",
    "for i in range(len(alladjs_s)):\n",
    "    if alladjs_s[i] == '':\n",
    "        ind.append(i)"
   ]
  },
  {
   "cell_type": "code",
   "execution_count": 34,
   "metadata": {},
   "outputs": [],
   "source": [
    "a_f = pd.DataFrame(alladjs_f,columns=['words'])"
   ]
  },
  {
   "cell_type": "code",
   "execution_count": 35,
   "metadata": {},
   "outputs": [],
   "source": [
    "a_f.drop(ind,inplace=True)"
   ]
  },
  {
   "cell_type": "code",
   "execution_count": 36,
   "metadata": {},
   "outputs": [],
   "source": [
    "adj_only = np.unique(a_f)"
   ]
  },
  {
   "cell_type": "code",
   "execution_count": 37,
   "metadata": {},
   "outputs": [],
   "source": [
    "c = pd.value_counts(a_f['words'])"
   ]
  },
  {
   "cell_type": "code",
   "execution_count": 38,
   "metadata": {},
   "outputs": [],
   "source": [
    "adjs_f = pd.DataFrame(columns=['adj', 'nums'])"
   ]
  },
  {
   "cell_type": "code",
   "execution_count": 39,
   "metadata": {},
   "outputs": [],
   "source": [
    "adjs_f['adj'] = c.index\n",
    "adjs_f['nums'] = c.values"
   ]
  },
  {
   "cell_type": "code",
   "execution_count": 40,
   "metadata": {},
   "outputs": [],
   "source": [
    "lst = list(adjs_f.index[adjs_f['nums'] > 500]) #only choose adjs which appear more than 100 times"
   ]
  },
  {
   "cell_type": "code",
   "execution_count": 41,
   "metadata": {},
   "outputs": [],
   "source": [
    "adjs_s = adjs_f.iloc[lst]"
   ]
  },
  {
   "cell_type": "code",
   "execution_count": 42,
   "metadata": {},
   "outputs": [],
   "source": [
    "adjs_final = pd.DataFrame(adjs_s['adj'])"
   ]
  },
  {
   "cell_type": "code",
   "execution_count": 43,
   "metadata": {},
   "outputs": [
    {
     "data": {
      "text/html": [
       "<div>\n",
       "<style scoped>\n",
       "    .dataframe tbody tr th:only-of-type {\n",
       "        vertical-align: middle;\n",
       "    }\n",
       "\n",
       "    .dataframe tbody tr th {\n",
       "        vertical-align: top;\n",
       "    }\n",
       "\n",
       "    .dataframe thead th {\n",
       "        text-align: right;\n",
       "    }\n",
       "</style>\n",
       "<table border=\"1\" class=\"dataframe\">\n",
       "  <thead>\n",
       "    <tr style=\"text-align: right;\">\n",
       "      <th></th>\n",
       "      <th>adj</th>\n",
       "    </tr>\n",
       "  </thead>\n",
       "  <tbody>\n",
       "    <tr>\n",
       "      <th>0</th>\n",
       "      <td>good</td>\n",
       "    </tr>\n",
       "    <tr>\n",
       "      <th>1</th>\n",
       "      <td>great</td>\n",
       "    </tr>\n",
       "    <tr>\n",
       "      <th>2</th>\n",
       "      <td>really</td>\n",
       "    </tr>\n",
       "    <tr>\n",
       "      <th>3</th>\n",
       "      <td>also</td>\n",
       "    </tr>\n",
       "    <tr>\n",
       "      <th>4</th>\n",
       "      <td>back</td>\n",
       "    </tr>\n",
       "  </tbody>\n",
       "</table>\n",
       "</div>"
      ],
      "text/plain": [
       "      adj\n",
       "0    good\n",
       "1   great\n",
       "2  really\n",
       "3    also\n",
       "4    back"
      ]
     },
     "execution_count": 43,
     "metadata": {},
     "output_type": "execute_result"
    }
   ],
   "source": [
    "adjs_final.head()"
   ]
  },
  {
   "cell_type": "markdown",
   "metadata": {},
   "source": [
    "## (2).Reviews to adjs"
   ]
  },
  {
   "cell_type": "code",
   "execution_count": 44,
   "metadata": {},
   "outputs": [],
   "source": [
    "text_second = text['text'].apply(sentenceClean2)"
   ]
  },
  {
   "cell_type": "code",
   "execution_count": 45,
   "metadata": {},
   "outputs": [],
   "source": [
    "pd_second = pd.DataFrame(text_second)"
   ]
  },
  {
   "cell_type": "code",
   "execution_count": 46,
   "metadata": {},
   "outputs": [],
   "source": [
    "c1 = pd_second['text']!=''"
   ]
  },
  {
   "cell_type": "code",
   "execution_count": 47,
   "metadata": {},
   "outputs": [],
   "source": [
    "ind1 = list(c1.values)"
   ]
  },
  {
   "cell_type": "code",
   "execution_count": 48,
   "metadata": {},
   "outputs": [],
   "source": [
    "allind = list(range(pd_second.shape[0]))"
   ]
  },
  {
   "cell_type": "code",
   "execution_count": 49,
   "metadata": {},
   "outputs": [],
   "source": [
    "inde = list(compress(allind, ind1))"
   ]
  },
  {
   "cell_type": "code",
   "execution_count": 50,
   "metadata": {},
   "outputs": [],
   "source": [
    "pd_t = pd_second.iloc[inde]"
   ]
  },
  {
   "cell_type": "code",
   "execution_count": 51,
   "metadata": {},
   "outputs": [],
   "source": [
    "pd_t.index = range(pd_t.shape[0])"
   ]
  },
  {
   "cell_type": "code",
   "execution_count": 52,
   "metadata": {},
   "outputs": [],
   "source": [
    "pd_t_text = list(pd_t['text'])"
   ]
  },
  {
   "cell_type": "code",
   "execution_count": 53,
   "metadata": {},
   "outputs": [],
   "source": [
    "vectorizer = CountVectorizer()"
   ]
  },
  {
   "cell_type": "code",
   "execution_count": 54,
   "metadata": {},
   "outputs": [],
   "source": [
    "X = vectorizer.fit_transform(pd_t_text)"
   ]
  },
  {
   "cell_type": "code",
   "execution_count": 55,
   "metadata": {},
   "outputs": [],
   "source": [
    "nam = vectorizer.get_feature_names()"
   ]
  },
  {
   "cell_type": "code",
   "execution_count": 56,
   "metadata": {},
   "outputs": [],
   "source": [
    "ma = X.toarray()"
   ]
  },
  {
   "cell_type": "code",
   "execution_count": 57,
   "metadata": {},
   "outputs": [],
   "source": [
    "df1 = pd.DataFrame(ma, columns=nam, index=range(pd_t.shape[0]))"
   ]
  },
  {
   "cell_type": "code",
   "execution_count": 58,
   "metadata": {},
   "outputs": [],
   "source": [
    "text_stars_f = text_stars.iloc[inde]"
   ]
  },
  {
   "cell_type": "code",
   "execution_count": 59,
   "metadata": {},
   "outputs": [],
   "source": [
    "text_stars_f.index = range(text_stars_f.shape[0])"
   ]
  },
  {
   "cell_type": "code",
   "execution_count": 60,
   "metadata": {},
   "outputs": [],
   "source": [
    "text_stars_f = pd.DataFrame(text_stars_f,columns=['stars'])"
   ]
  },
  {
   "cell_type": "code",
   "execution_count": 61,
   "metadata": {},
   "outputs": [],
   "source": [
    "text_stars_binary = pd.DataFrame(np.where(text_stars_f>=4,1,0))"
   ]
  },
  {
   "cell_type": "code",
   "execution_count": 62,
   "metadata": {},
   "outputs": [],
   "source": [
    "text_stars_binary.index = range(text_stars_f.shape[0])"
   ]
  },
  {
   "cell_type": "code",
   "execution_count": 63,
   "metadata": {},
   "outputs": [],
   "source": [
    "text_stars_binary.columns = ['stars']"
   ]
  },
  {
   "cell_type": "markdown",
   "metadata": {},
   "source": [
    "## (3).Try Tfidf"
   ]
  },
  {
   "cell_type": "code",
   "execution_count": 64,
   "metadata": {},
   "outputs": [],
   "source": [
    "tfidf_dat = pd_t"
   ]
  },
  {
   "cell_type": "code",
   "execution_count": 65,
   "metadata": {},
   "outputs": [],
   "source": [
    "tfidf_dat_f =tfidf_dat[tfidf_dat['text'].notnull()] "
   ]
  },
  {
   "cell_type": "code",
   "execution_count": 66,
   "metadata": {},
   "outputs": [],
   "source": [
    "ti = TfidfVectorizer()"
   ]
  },
  {
   "cell_type": "code",
   "execution_count": 67,
   "metadata": {},
   "outputs": [],
   "source": [
    "tfidf_value = ti.fit_transform(tfidf_dat_f['text'])"
   ]
  },
  {
   "cell_type": "code",
   "execution_count": 68,
   "metadata": {},
   "outputs": [],
   "source": [
    "feature_names = ti.get_feature_names()"
   ]
  },
  {
   "cell_type": "code",
   "execution_count": 69,
   "metadata": {},
   "outputs": [],
   "source": [
    "df_tfidf = pd.DataFrame(tfidf_value.toarray(), columns = feature_names)"
   ]
  },
  {
   "cell_type": "markdown",
   "metadata": {},
   "source": [
    "## (4).Punctuate treatment"
   ]
  },
  {
   "cell_type": "code",
   "execution_count": 66,
   "metadata": {},
   "outputs": [],
   "source": [
    "text_third = text['text'].apply(sentenceClean3)"
   ]
  },
  {
   "cell_type": "markdown",
   "metadata": {},
   "source": [
    "# 2.Scores for adjs"
   ]
  },
  {
   "cell_type": "markdown",
   "metadata": {},
   "source": [
    "## (1).Ordinary"
   ]
  },
  {
   "cell_type": "code",
   "execution_count": 67,
   "metadata": {},
   "outputs": [],
   "source": [
    "X = df1"
   ]
  },
  {
   "cell_type": "code",
   "execution_count": 74,
   "metadata": {},
   "outputs": [],
   "source": [
    "y = text_stars_binary"
   ]
  },
  {
   "cell_type": "code",
   "execution_count": 69,
   "metadata": {},
   "outputs": [],
   "source": [
    "clf = LogisticRegression(random_state=123, solver='sag')"
   ]
  },
  {
   "cell_type": "code",
   "execution_count": 70,
   "metadata": {},
   "outputs": [
    {
     "name": "stderr",
     "output_type": "stream",
     "text": [
      "/anaconda3/lib/python3.6/site-packages/sklearn/utils/validation.py:761: DataConversionWarning: A column-vector y was passed when a 1d array was expected. Please change the shape of y to (n_samples, ), for example using ravel().\n",
      "  y = column_or_1d(y, warn=True)\n",
      "/anaconda3/lib/python3.6/site-packages/sklearn/linear_model/sag.py:334: ConvergenceWarning: The max_iter was reached which means the coef_ did not converge\n",
      "  \"the coef_ did not converge\", ConvergenceWarning)\n"
     ]
    },
    {
     "data": {
      "text/plain": [
       "LogisticRegression(C=1.0, class_weight=None, dual=False, fit_intercept=True,\n",
       "          intercept_scaling=1, max_iter=100, multi_class='warn',\n",
       "          n_jobs=None, penalty='l2', random_state=123, solver='sag',\n",
       "          tol=0.0001, verbose=0, warm_start=False)"
      ]
     },
     "execution_count": 70,
     "metadata": {},
     "output_type": "execute_result"
    }
   ],
   "source": [
    "clf.fit(X,y)"
   ]
  },
  {
   "cell_type": "code",
   "execution_count": 71,
   "metadata": {},
   "outputs": [],
   "source": [
    "coe = clf.coef_"
   ]
  },
  {
   "cell_type": "code",
   "execution_count": 72,
   "metadata": {},
   "outputs": [],
   "source": [
    "c = abs(coe)>0.2"
   ]
  },
  {
   "cell_type": "code",
   "execution_count": 73,
   "metadata": {},
   "outputs": [],
   "source": [
    "coe_all = coe[c]"
   ]
  },
  {
   "cell_type": "code",
   "execution_count": 74,
   "metadata": {},
   "outputs": [],
   "source": [
    "allwords = list(X.columns)"
   ]
  },
  {
   "cell_type": "code",
   "execution_count": 75,
   "metadata": {},
   "outputs": [],
   "source": [
    "useful_words = list(compress(allwords, list(c[0])))"
   ]
  },
  {
   "cell_type": "code",
   "execution_count": 76,
   "metadata": {},
   "outputs": [],
   "source": [
    "coe_usefulwords = list(coe_all)"
   ]
  },
  {
   "cell_type": "code",
   "execution_count": 77,
   "metadata": {},
   "outputs": [],
   "source": [
    "dic = dict(zip(useful_words,coe_usefulwords))"
   ]
  },
  {
   "cell_type": "code",
   "execution_count": 78,
   "metadata": {},
   "outputs": [],
   "source": [
    "df = pd.DataFrame(columns=['words','score'],index=range(len(useful_words)))"
   ]
  },
  {
   "cell_type": "code",
   "execution_count": 79,
   "metadata": {},
   "outputs": [],
   "source": [
    "df['words'] = useful_words\n",
    "df['score'] = coe_usefulwords"
   ]
  },
  {
   "cell_type": "code",
   "execution_count": 80,
   "metadata": {},
   "outputs": [
    {
     "data": {
      "text/html": [
       "<div>\n",
       "<style scoped>\n",
       "    .dataframe tbody tr th:only-of-type {\n",
       "        vertical-align: middle;\n",
       "    }\n",
       "\n",
       "    .dataframe tbody tr th {\n",
       "        vertical-align: top;\n",
       "    }\n",
       "\n",
       "    .dataframe thead th {\n",
       "        text-align: right;\n",
       "    }\n",
       "</style>\n",
       "<table border=\"1\" class=\"dataframe\">\n",
       "  <thead>\n",
       "    <tr style=\"text-align: right;\">\n",
       "      <th></th>\n",
       "      <th>words</th>\n",
       "      <th>score</th>\n",
       "    </tr>\n",
       "  </thead>\n",
       "  <tbody>\n",
       "    <tr>\n",
       "      <th>376</th>\n",
       "      <td>worst</td>\n",
       "      <td>-2.183735</td>\n",
       "    </tr>\n",
       "    <tr>\n",
       "      <th>176</th>\n",
       "      <td>mediocre</td>\n",
       "      <td>-1.967689</td>\n",
       "    </tr>\n",
       "    <tr>\n",
       "      <th>143</th>\n",
       "      <td>horrible</td>\n",
       "      <td>-1.885465</td>\n",
       "    </tr>\n",
       "    <tr>\n",
       "      <th>235</th>\n",
       "      <td>notworth</td>\n",
       "      <td>-1.857786</td>\n",
       "    </tr>\n",
       "    <tr>\n",
       "      <th>106</th>\n",
       "      <td>flavorless</td>\n",
       "      <td>-1.842342</td>\n",
       "    </tr>\n",
       "    <tr>\n",
       "      <th>344</th>\n",
       "      <td>terrible</td>\n",
       "      <td>-1.787523</td>\n",
       "    </tr>\n",
       "    <tr>\n",
       "      <th>214</th>\n",
       "      <td>notimpressed</td>\n",
       "      <td>-1.732537</td>\n",
       "    </tr>\n",
       "    <tr>\n",
       "      <th>23</th>\n",
       "      <td>awful</td>\n",
       "      <td>-1.666477</td>\n",
       "    </tr>\n",
       "    <tr>\n",
       "      <th>73</th>\n",
       "      <td>disappointing</td>\n",
       "      <td>-1.599558</td>\n",
       "    </tr>\n",
       "    <tr>\n",
       "      <th>151</th>\n",
       "      <td>inedible</td>\n",
       "      <td>-1.598462</td>\n",
       "    </tr>\n",
       "  </tbody>\n",
       "</table>\n",
       "</div>"
      ],
      "text/plain": [
       "             words     score\n",
       "376          worst -2.183735\n",
       "176       mediocre -1.967689\n",
       "143       horrible -1.885465\n",
       "235       notworth -1.857786\n",
       "106     flavorless -1.842342\n",
       "344       terrible -1.787523\n",
       "214   notimpressed -1.732537\n",
       "23           awful -1.666477\n",
       "73   disappointing -1.599558\n",
       "151       inedible -1.598462"
      ]
     },
     "execution_count": 80,
     "metadata": {},
     "output_type": "execute_result"
    }
   ],
   "source": [
    "df.iloc[df.score.values.argsort()[:10]]"
   ]
  },
  {
   "cell_type": "code",
   "execution_count": 81,
   "metadata": {},
   "outputs": [
    {
     "data": {
      "text/html": [
       "<div>\n",
       "<style scoped>\n",
       "    .dataframe tbody tr th:only-of-type {\n",
       "        vertical-align: middle;\n",
       "    }\n",
       "\n",
       "    .dataframe tbody tr th {\n",
       "        vertical-align: top;\n",
       "    }\n",
       "\n",
       "    .dataframe thead th {\n",
       "        text-align: right;\n",
       "    }\n",
       "</style>\n",
       "<table border=\"1\" class=\"dataframe\">\n",
       "  <thead>\n",
       "    <tr style=\"text-align: right;\">\n",
       "      <th></th>\n",
       "      <th>words</th>\n",
       "      <th>score</th>\n",
       "    </tr>\n",
       "  </thead>\n",
       "  <tbody>\n",
       "    <tr>\n",
       "      <th>261</th>\n",
       "      <td>phenomenal</td>\n",
       "      <td>1.462403</td>\n",
       "    </tr>\n",
       "    <tr>\n",
       "      <th>199</th>\n",
       "      <td>notdisappointed</td>\n",
       "      <td>1.338303</td>\n",
       "    </tr>\n",
       "    <tr>\n",
       "      <th>96</th>\n",
       "      <td>fantastic</td>\n",
       "      <td>1.237228</td>\n",
       "    </tr>\n",
       "    <tr>\n",
       "      <th>22</th>\n",
       "      <td>awesome</td>\n",
       "      <td>1.184935</td>\n",
       "    </tr>\n",
       "    <tr>\n",
       "      <th>90</th>\n",
       "      <td>excellent</td>\n",
       "      <td>1.183631</td>\n",
       "    </tr>\n",
       "    <tr>\n",
       "      <th>311</th>\n",
       "      <td>skeptical</td>\n",
       "      <td>1.177116</td>\n",
       "    </tr>\n",
       "    <tr>\n",
       "      <th>8</th>\n",
       "      <td>amazing</td>\n",
       "      <td>1.121655</td>\n",
       "    </tr>\n",
       "    <tr>\n",
       "      <th>67</th>\n",
       "      <td>delicious</td>\n",
       "      <td>1.097352</td>\n",
       "    </tr>\n",
       "    <tr>\n",
       "      <th>149</th>\n",
       "      <td>incredible</td>\n",
       "      <td>1.092331</td>\n",
       "    </tr>\n",
       "    <tr>\n",
       "      <th>269</th>\n",
       "      <td>pleased</td>\n",
       "      <td>1.020797</td>\n",
       "    </tr>\n",
       "  </tbody>\n",
       "</table>\n",
       "</div>"
      ],
      "text/plain": [
       "               words     score\n",
       "261       phenomenal  1.462403\n",
       "199  notdisappointed  1.338303\n",
       "96         fantastic  1.237228\n",
       "22           awesome  1.184935\n",
       "90         excellent  1.183631\n",
       "311        skeptical  1.177116\n",
       "8            amazing  1.121655\n",
       "67         delicious  1.097352\n",
       "149       incredible  1.092331\n",
       "269          pleased  1.020797"
      ]
     },
     "execution_count": 81,
     "metadata": {},
     "output_type": "execute_result"
    }
   ],
   "source": [
    "df.iloc[df.score.values.argsort()[::-1][:10]]"
   ]
  },
  {
   "cell_type": "code",
   "execution_count": 149,
   "metadata": {},
   "outputs": [
    {
     "data": {
      "image/png": "[encoded data removed]",
      "text/plain": [
       "<matplotlib.figure.Figure at 0x13e3bc240>"
      ]
     },
     "metadata": {},
     "output_type": "display_data"
    }
   ],
   "source": [
    "f, ax= plt.subplots(figsize = (12,6))\n",
    "sns.distplot(np.abs(coe_usefulwords))\n",
    "plt.show()"
   ]
  },
  {
   "cell_type": "markdown",
   "metadata": {},
   "source": [
    "## (2).Tfidf"
   ]
  },
  {
   "cell_type": "code",
   "execution_count": 75,
   "metadata": {},
   "outputs": [],
   "source": [
    "tfidf = df_tfidf"
   ]
  },
  {
   "cell_type": "code",
   "execution_count": 76,
   "metadata": {},
   "outputs": [],
   "source": [
    "clf_t = LogisticRegression(random_state=123, solver='sag')"
   ]
  },
  {
   "cell_type": "code",
   "execution_count": 77,
   "metadata": {},
   "outputs": [
    {
     "name": "stderr",
     "output_type": "stream",
     "text": [
      "/anaconda3/lib/python3.6/site-packages/sklearn/utils/validation.py:761: DataConversionWarning: A column-vector y was passed when a 1d array was expected. Please change the shape of y to (n_samples, ), for example using ravel().\n",
      "  y = column_or_1d(y, warn=True)\n"
     ]
    },
    {
     "data": {
      "text/plain": [
       "LogisticRegression(C=1.0, class_weight=None, dual=False, fit_intercept=True,\n",
       "          intercept_scaling=1, max_iter=100, multi_class='warn',\n",
       "          n_jobs=None, penalty='l2', random_state=123, solver='sag',\n",
       "          tol=0.0001, verbose=0, warm_start=False)"
      ]
     },
     "execution_count": 77,
     "metadata": {},
     "output_type": "execute_result"
    }
   ],
   "source": [
    "clf_t.fit(tfidf,y)"
   ]
  },
  {
   "cell_type": "code",
   "execution_count": 78,
   "metadata": {},
   "outputs": [],
   "source": [
    "coe_tfidf = clf_t.coef_"
   ]
  },
  {
   "cell_type": "code",
   "execution_count": 79,
   "metadata": {},
   "outputs": [],
   "source": [
    "c = abs(coe_tfidf)>1"
   ]
  },
  {
   "cell_type": "code",
   "execution_count": 80,
   "metadata": {},
   "outputs": [],
   "source": [
    "coe_tfidf_all = coe_tfidf[c]"
   ]
  },
  {
   "cell_type": "code",
   "execution_count": 81,
   "metadata": {},
   "outputs": [],
   "source": [
    "allwords = list(tfidf.columns)"
   ]
  },
  {
   "cell_type": "code",
   "execution_count": 82,
   "metadata": {},
   "outputs": [],
   "source": [
    "useful_words = list(compress(allwords, list(c[0])))"
   ]
  },
  {
   "cell_type": "code",
   "execution_count": 83,
   "metadata": {},
   "outputs": [],
   "source": [
    "coe_usefulwords = list(coe_tfidf_all)"
   ]
  },
  {
   "cell_type": "code",
   "execution_count": 84,
   "metadata": {},
   "outputs": [],
   "source": [
    "dic = dict(zip(useful_words,coe_usefulwords))"
   ]
  },
  {
   "cell_type": "code",
   "execution_count": 85,
   "metadata": {},
   "outputs": [],
   "source": [
    "df = pd.DataFrame(columns=['words','score'],index=range(coe_tfidf_all.shape[0]))\n",
    "df['words'] = useful_words\n",
    "df['score'] = coe_usefulwords"
   ]
  },
  {
   "cell_type": "code",
   "execution_count": 86,
   "metadata": {},
   "outputs": [
    {
     "data": {
      "text/html": [
       "<div>\n",
       "<style scoped>\n",
       "    .dataframe tbody tr th:only-of-type {\n",
       "        vertical-align: middle;\n",
       "    }\n",
       "\n",
       "    .dataframe tbody tr th {\n",
       "        vertical-align: top;\n",
       "    }\n",
       "\n",
       "    .dataframe thead th {\n",
       "        text-align: right;\n",
       "    }\n",
       "</style>\n",
       "<table border=\"1\" class=\"dataframe\">\n",
       "  <thead>\n",
       "    <tr style=\"text-align: right;\">\n",
       "      <th></th>\n",
       "      <th>words</th>\n",
       "      <th>score</th>\n",
       "    </tr>\n",
       "  </thead>\n",
       "  <tbody>\n",
       "    <tr>\n",
       "      <th>312</th>\n",
       "      <td>worst</td>\n",
       "      <td>-8.196511</td>\n",
       "    </tr>\n",
       "    <tr>\n",
       "      <th>143</th>\n",
       "      <td>mediocre</td>\n",
       "      <td>-6.982294</td>\n",
       "    </tr>\n",
       "    <tr>\n",
       "      <th>194</th>\n",
       "      <td>notworth</td>\n",
       "      <td>-6.375627</td>\n",
       "    </tr>\n",
       "    <tr>\n",
       "      <th>120</th>\n",
       "      <td>horrible</td>\n",
       "      <td>-6.197028</td>\n",
       "    </tr>\n",
       "    <tr>\n",
       "      <th>33</th>\n",
       "      <td>bland</td>\n",
       "      <td>-5.967597</td>\n",
       "    </tr>\n",
       "    <tr>\n",
       "      <th>285</th>\n",
       "      <td>terrible</td>\n",
       "      <td>-5.926594</td>\n",
       "    </tr>\n",
       "    <tr>\n",
       "      <th>60</th>\n",
       "      <td>disappointing</td>\n",
       "      <td>-5.840991</td>\n",
       "    </tr>\n",
       "    <tr>\n",
       "      <th>87</th>\n",
       "      <td>flavorless</td>\n",
       "      <td>-5.276968</td>\n",
       "    </tr>\n",
       "    <tr>\n",
       "      <th>200</th>\n",
       "      <td>ok</td>\n",
       "      <td>-5.272287</td>\n",
       "    </tr>\n",
       "    <tr>\n",
       "      <th>209</th>\n",
       "      <td>overpriced</td>\n",
       "      <td>-4.840953</td>\n",
       "    </tr>\n",
       "  </tbody>\n",
       "</table>\n",
       "</div>"
      ],
      "text/plain": [
       "             words     score\n",
       "312          worst -8.196511\n",
       "143       mediocre -6.982294\n",
       "194       notworth -6.375627\n",
       "120       horrible -6.197028\n",
       "33           bland -5.967597\n",
       "285       terrible -5.926594\n",
       "60   disappointing -5.840991\n",
       "87      flavorless -5.276968\n",
       "200             ok -5.272287\n",
       "209     overpriced -4.840953"
      ]
     },
     "execution_count": 86,
     "metadata": {},
     "output_type": "execute_result"
    }
   ],
   "source": [
    "df.iloc[df.score.values.argsort()[:10]]"
   ]
  },
  {
   "cell_type": "code",
   "execution_count": 87,
   "metadata": {},
   "outputs": [
    {
     "data": {
      "text/html": [
       "<div>\n",
       "<style scoped>\n",
       "    .dataframe tbody tr th:only-of-type {\n",
       "        vertical-align: middle;\n",
       "    }\n",
       "\n",
       "    .dataframe tbody tr th {\n",
       "        vertical-align: top;\n",
       "    }\n",
       "\n",
       "    .dataframe thead th {\n",
       "        text-align: right;\n",
       "    }\n",
       "</style>\n",
       "<table border=\"1\" class=\"dataframe\">\n",
       "  <thead>\n",
       "    <tr style=\"text-align: right;\">\n",
       "      <th></th>\n",
       "      <th>words</th>\n",
       "      <th>score</th>\n",
       "    </tr>\n",
       "  </thead>\n",
       "  <tbody>\n",
       "    <tr>\n",
       "      <th>54</th>\n",
       "      <td>delicious</td>\n",
       "      <td>7.043990</td>\n",
       "    </tr>\n",
       "    <tr>\n",
       "      <th>8</th>\n",
       "      <td>amazing</td>\n",
       "      <td>5.709487</td>\n",
       "    </tr>\n",
       "    <tr>\n",
       "      <th>104</th>\n",
       "      <td>great</td>\n",
       "      <td>5.482821</td>\n",
       "    </tr>\n",
       "    <tr>\n",
       "      <th>73</th>\n",
       "      <td>excellent</td>\n",
       "      <td>5.442165</td>\n",
       "    </tr>\n",
       "    <tr>\n",
       "      <th>29</th>\n",
       "      <td>best</td>\n",
       "      <td>5.182681</td>\n",
       "    </tr>\n",
       "    <tr>\n",
       "      <th>20</th>\n",
       "      <td>awesome</td>\n",
       "      <td>4.964996</td>\n",
       "    </tr>\n",
       "    <tr>\n",
       "      <th>78</th>\n",
       "      <td>fantastic</td>\n",
       "      <td>4.798915</td>\n",
       "    </tr>\n",
       "    <tr>\n",
       "      <th>81</th>\n",
       "      <td>favorite</td>\n",
       "      <td>4.768694</td>\n",
       "    </tr>\n",
       "    <tr>\n",
       "      <th>213</th>\n",
       "      <td>perfect</td>\n",
       "      <td>4.064217</td>\n",
       "    </tr>\n",
       "    <tr>\n",
       "      <th>217</th>\n",
       "      <td>phenomenal</td>\n",
       "      <td>4.029358</td>\n",
       "    </tr>\n",
       "  </tbody>\n",
       "</table>\n",
       "</div>"
      ],
      "text/plain": [
       "          words     score\n",
       "54    delicious  7.043990\n",
       "8       amazing  5.709487\n",
       "104       great  5.482821\n",
       "73    excellent  5.442165\n",
       "29         best  5.182681\n",
       "20      awesome  4.964996\n",
       "78    fantastic  4.798915\n",
       "81     favorite  4.768694\n",
       "213     perfect  4.064217\n",
       "217  phenomenal  4.029358"
      ]
     },
     "execution_count": 87,
     "metadata": {},
     "output_type": "execute_result"
    }
   ],
   "source": [
    "df.iloc[df.score.values.argsort()[::-1][:10]]"
   ]
  },
  {
   "cell_type": "code",
   "execution_count": 88,
   "metadata": {},
   "outputs": [
    {
     "data": {
      "image/png": "[encoded data removed]",
      "text/plain": [
       "<matplotlib.figure.Figure at 0x13c37a978>"
      ]
     },
     "metadata": {},
     "output_type": "display_data"
    }
   ],
   "source": [
    "f, ax= plt.subplots(figsize = (12,6))\n",
    "sns.distplot(np.abs(coe_usefulwords))\n",
    "plt.show()"
   ]
  },
  {
   "cell_type": "markdown",
   "metadata": {},
   "source": [
    "# 3.Ranking"
   ]
  },
  {
   "cell_type": "markdown",
   "metadata": {},
   "source": [
    "## (0).Aggregate Functions"
   ]
  },
  {
   "cell_type": "code",
   "execution_count": 83,
   "metadata": {},
   "outputs": [],
   "source": [
    "def food(x):  #\n",
    "    pattern = re.compile(r'duanju.+?food.+?duanju')  #\n",
    "    result = pattern.findall(x)\n",
    "    if result != []:\n",
    "        string_f = ''.join(result)\n",
    "        split_f = string_f.split()\n",
    "        rev_f = ' '.join(split_f[::-1])\n",
    "        result_s = pattern.findall(rev_f)\n",
    "        string_s = ''.join(result_s)\n",
    "        split_s = string_s.split()\n",
    "        split_s.pop(0)\n",
    "        split_s.pop()\n",
    "        rev_s = ' '.join(split_s[::-1])\n",
    "    else:\n",
    "        pattern = re.compile(r'.+?food.+?duanju')    #\n",
    "        result = pattern.findall(x)\n",
    "        if result != []:\n",
    "            split_t = ''.join(result).split()\n",
    "            split_t.pop()\n",
    "            rev_s = ' '.join(split_t)\n",
    "        else:\n",
    "            rev_s = 'GG'\n",
    "    return rev_s"
   ]
  },
  {
   "cell_type": "code",
   "execution_count": 84,
   "metadata": {},
   "outputs": [],
   "source": [
    "def zhixing_f(x):\n",
    "    blst = [] #first part\n",
    "    for i in range(x.shape[0]):                     #\n",
    "        blst.append(\"food\" in x['text'].iloc[i])   #\n",
    "    lst = list(range(x.shape[0]))    #\n",
    "    lst_food = list(compress(lst,blst))  #\n",
    "    qq_food = x.iloc[lst_food] #\n",
    "    lst_f = []  #second\n",
    "    for var in qq_food['text']:   #\n",
    "        lst_f.append(food(var))  ##\n",
    "    df_f = pd.DataFrame(lst_f,columns=['text']) ##\n",
    "    df_f_adjs = df_f['text'].apply(sentenceClean4) ##\n",
    "    food_score = []  #third\n",
    "    a = 0\n",
    "    for i in range(df_f_adjs.shape[0]): #\n",
    "        if df_f_adjs[i] == '':  #\n",
    "            a = 0\n",
    "            food_score.append(a)   #\n",
    "        else:\n",
    "            a = 0\n",
    "            for j in range(len(df_f_adjs[i].split())): #\n",
    "                a += dic[df_f_adjs[i].split()[j]] #\n",
    "            food_score.append(a)   #\n",
    "    food_score = pd.DataFrame(food_score,columns=['scores'])  ##\n",
    "    avg_food_score = np.mean(food_score['scores'])  #\n",
    "    food_score_all.append(avg_food_score)"
   ]
  },
  {
   "cell_type": "code",
   "execution_count": 85,
   "metadata": {},
   "outputs": [],
   "source": [
    "def price(x):  #\n",
    "    pattern = re.compile(r'duanju.+?price.+?duanju')  #\n",
    "    result = pattern.findall(x)\n",
    "    if result != []:\n",
    "        string_f = ''.join(result)\n",
    "        split_f = string_f.split()\n",
    "        rev_f = ' '.join(split_f[::-1])\n",
    "        result_s = pattern.findall(rev_f)\n",
    "        string_s = ''.join(result_s)\n",
    "        split_s = string_s.split()\n",
    "        split_s.pop(0)\n",
    "        split_s.pop()\n",
    "        rev_s = ' '.join(split_s[::-1])\n",
    "    else:\n",
    "        pattern = re.compile(r'.+?price.+?duanju')    #\n",
    "        result = pattern.findall(x)\n",
    "        if result != []:\n",
    "            split_t = ''.join(result).split()\n",
    "            split_t.pop()\n",
    "            rev_s = ' '.join(split_t)\n",
    "        else:\n",
    "            rev_s = 'GG'\n",
    "    return rev_s"
   ]
  },
  {
   "cell_type": "code",
   "execution_count": 86,
   "metadata": {},
   "outputs": [],
   "source": [
    "def zhixing_p(x):\n",
    "    blst = [] #first part\n",
    "    for i in range(x.shape[0]):                     #\n",
    "        blst.append(\"price\" in x['text'].iloc[i])   ##################\n",
    "    lst = list(range(x.shape[0]))    #\n",
    "    lst_food = list(compress(lst,blst))  #\n",
    "    qq_food = x.iloc[lst_food] #\n",
    "    lst_f = []  #second\n",
    "    for var in qq_food['text']:   #\n",
    "        lst_f.append(price(var))  #####################\n",
    "    df_f = pd.DataFrame(lst_f,columns=['text']) ##\n",
    "    df_f_adjs = df_f['text'].apply(sentenceClean4) ##\n",
    "    food_score = []  #third\n",
    "    a = 0\n",
    "    for i in range(df_f_adjs.shape[0]): #\n",
    "        if df_f_adjs[i] == '':  #\n",
    "            a = 0\n",
    "            food_score.append(a)   #\n",
    "        else:\n",
    "            a = 0\n",
    "            for j in range(len(df_f_adjs[i].split())): #\n",
    "                a += dic[df_f_adjs[i].split()[j]] #\n",
    "            food_score.append(a)   #\n",
    "    food_score = pd.DataFrame(food_score,columns=['scores'])  ##\n",
    "    avg_food_score = np.mean(food_score['scores'])  #\n",
    "    price_score_all.append(avg_food_score)     ################"
   ]
  },
  {
   "cell_type": "code",
   "execution_count": 87,
   "metadata": {},
   "outputs": [],
   "source": [
    "def service(x):  #\n",
    "    pattern = re.compile(r'duanju.+?service.+?duanju')  #\n",
    "    result = pattern.findall(x)\n",
    "    if result != []:\n",
    "        string_f = ''.join(result)\n",
    "        split_f = string_f.split()\n",
    "        rev_f = ' '.join(split_f[::-1])\n",
    "        result_s = pattern.findall(rev_f)\n",
    "        string_s = ''.join(result_s)\n",
    "        split_s = string_s.split()\n",
    "        split_s.pop(0)\n",
    "        split_s.pop()\n",
    "        rev_s = ' '.join(split_s[::-1])\n",
    "    else:\n",
    "        pattern = re.compile(r'.+?service.+?duanju')    #\n",
    "        result = pattern.findall(x)\n",
    "        if result != []:\n",
    "            split_t = ''.join(result).split()\n",
    "            split_t.pop()\n",
    "            rev_s = ' '.join(split_t)\n",
    "        else:\n",
    "            rev_s = 'GG'\n",
    "    return rev_s"
   ]
  },
  {
   "cell_type": "code",
   "execution_count": 88,
   "metadata": {},
   "outputs": [],
   "source": [
    "def zhixing_s(x):\n",
    "    blst = [] #first part\n",
    "    for i in range(x.shape[0]):                     #\n",
    "        blst.append(\"service\" in x['text'].iloc[i])   ##################\n",
    "    lst = list(range(x.shape[0]))    #\n",
    "    lst_food = list(compress(lst,blst))  #\n",
    "    qq_food = x.iloc[lst_food] #\n",
    "    lst_f = []  #second\n",
    "    for var in qq_food['text']:   #\n",
    "        lst_f.append(service(var))  #####################\n",
    "    df_f = pd.DataFrame(lst_f,columns=['text']) ##\n",
    "    df_f_adjs = df_f['text'].apply(sentenceClean4) ##\n",
    "    food_score = []  #third\n",
    "    a = 0\n",
    "    for i in range(df_f_adjs.shape[0]): #\n",
    "        if df_f_adjs[i] == '':  #\n",
    "            a = 0\n",
    "            food_score.append(a)   #\n",
    "        else:\n",
    "            a = 0\n",
    "            for j in range(len(df_f_adjs[i].split())): #\n",
    "                a += dic[df_f_adjs[i].split()[j]] #\n",
    "            food_score.append(a)   #\n",
    "    food_score = pd.DataFrame(food_score,columns=['scores'])  ##\n",
    "    avg_food_score = np.mean(food_score['scores'])  #\n",
    "    service_score_all.append(avg_food_score)     ################"
   ]
  },
  {
   "cell_type": "code",
   "execution_count": 89,
   "metadata": {},
   "outputs": [],
   "source": [
    "food_score_all = []"
   ]
  },
  {
   "cell_type": "code",
   "execution_count": 90,
   "metadata": {},
   "outputs": [],
   "source": [
    "price_score_all = []"
   ]
  },
  {
   "cell_type": "code",
   "execution_count": 91,
   "metadata": {},
   "outputs": [],
   "source": [
    "service_score_all = []"
   ]
  },
  {
   "cell_type": "markdown",
   "metadata": {},
   "source": [
    "## (1).Application on chinese resaurant in Madison"
   ]
  },
  {
   "cell_type": "code",
   "execution_count": 92,
   "metadata": {},
   "outputs": [],
   "source": [
    "words_score = df"
   ]
  },
  {
   "cell_type": "code",
   "execution_count": 93,
   "metadata": {},
   "outputs": [],
   "source": [
    "dic = dict(zip(words_score['words'],words_score['score']))"
   ]
  },
  {
   "cell_type": "code",
   "execution_count": 94,
   "metadata": {},
   "outputs": [],
   "source": [
    "adjs = list(words_score['words'])"
   ]
  },
  {
   "cell_type": "code",
   "execution_count": 102,
   "metadata": {},
   "outputs": [],
   "source": [
    "dic_id_name = dict(zip(mad_chi_final['business_id'],mad_chi_final['names']))"
   ]
  },
  {
   "cell_type": "code",
   "execution_count": 103,
   "metadata": {},
   "outputs": [
    {
     "data": {
      "text/html": [
       "<div>\n",
       "<style scoped>\n",
       "    .dataframe tbody tr th:only-of-type {\n",
       "        vertical-align: middle;\n",
       "    }\n",
       "\n",
       "    .dataframe tbody tr th {\n",
       "        vertical-align: top;\n",
       "    }\n",
       "\n",
       "    .dataframe thead th {\n",
       "        text-align: right;\n",
       "    }\n",
       "</style>\n",
       "<table border=\"1\" class=\"dataframe\">\n",
       "  <thead>\n",
       "    <tr style=\"text-align: right;\">\n",
       "      <th></th>\n",
       "    </tr>\n",
       "  </thead>\n",
       "  <tbody>\n",
       "  </tbody>\n",
       "</table>\n",
       "</div>"
      ],
      "text/plain": [
       "Empty DataFrame\n",
       "Columns: []\n",
       "Index: []"
      ]
     },
     "execution_count": 103,
     "metadata": {},
     "output_type": "execute_result"
    }
   ],
   "source": [
    "pd.DataFrame(mad_chi_final['text']).groupby(mad_chi_final['business_id']).apply(zhixing_f)\n",
    "pd.DataFrame(mad_chi_final['text']).groupby(mad_chi_final['business_id']).apply(zhixing_p)\n",
    "pd.DataFrame(mad_chi_final['text']).groupby(mad_chi_final['business_id']).apply(zhixing_s)"
   ]
  },
  {
   "cell_type": "code",
   "execution_count": 104,
   "metadata": {},
   "outputs": [],
   "source": [
    "food_score_all = food_score_all[1:]\n",
    "price_score_all = price_score_all[1:]\n",
    "service_score_all = service_score_all[1:]"
   ]
  },
  {
   "cell_type": "code",
   "execution_count": 105,
   "metadata": {},
   "outputs": [],
   "source": [
    "avg_stars = mad_chi_final['stars'].groupby(mad_chi_final['business_id']).apply(np.mean)"
   ]
  },
  {
   "cell_type": "code",
   "execution_count": 106,
   "metadata": {},
   "outputs": [],
   "source": [
    "ranking = pd.DataFrame(index=range(24),columns=['Name','Food','Price','Service','Avg-stars'])\n",
    "ranking['Name'] = dic_id_name.values()\n",
    "ranking['Food']  = food_score_all\n",
    "ranking['Price'] = price_score_all\n",
    "ranking['Service'] =  service_score_all\n",
    "ranking['Avg-stars'] = avg_stars.values"
   ]
  },
  {
   "cell_type": "code",
   "execution_count": 107,
   "metadata": {},
   "outputs": [
    {
     "data": {
      "text/html": [
       "<div>\n",
       "<style scoped>\n",
       "    .dataframe tbody tr th:only-of-type {\n",
       "        vertical-align: middle;\n",
       "    }\n",
       "\n",
       "    .dataframe tbody tr th {\n",
       "        vertical-align: top;\n",
       "    }\n",
       "\n",
       "    .dataframe thead th {\n",
       "        text-align: right;\n",
       "    }\n",
       "</style>\n",
       "<table border=\"1\" class=\"dataframe\">\n",
       "  <thead>\n",
       "    <tr style=\"text-align: right;\">\n",
       "      <th></th>\n",
       "      <th>Name</th>\n",
       "      <th>Food</th>\n",
       "      <th>Price</th>\n",
       "      <th>Service</th>\n",
       "      <th>Avg-stars</th>\n",
       "    </tr>\n",
       "  </thead>\n",
       "  <tbody>\n",
       "    <tr>\n",
       "      <th>0</th>\n",
       "      <td>DumplingHaus</td>\n",
       "      <td>0.022103</td>\n",
       "      <td>-0.324424</td>\n",
       "      <td>0.096001</td>\n",
       "      <td>3.767442</td>\n",
       "    </tr>\n",
       "    <tr>\n",
       "      <th>1</th>\n",
       "      <td>Hong Kong Cafe</td>\n",
       "      <td>-0.936759</td>\n",
       "      <td>-0.757243</td>\n",
       "      <td>0.139010</td>\n",
       "      <td>2.985915</td>\n",
       "    </tr>\n",
       "    <tr>\n",
       "      <th>2</th>\n",
       "      <td>Bahn Thai Restaurant</td>\n",
       "      <td>-0.063567</td>\n",
       "      <td>0.327551</td>\n",
       "      <td>-0.340548</td>\n",
       "      <td>3.532468</td>\n",
       "    </tr>\n",
       "    <tr>\n",
       "      <th>3</th>\n",
       "      <td>Flaming Wok</td>\n",
       "      <td>-0.103574</td>\n",
       "      <td>0.468692</td>\n",
       "      <td>-0.052243</td>\n",
       "      <td>3.153846</td>\n",
       "    </tr>\n",
       "    <tr>\n",
       "      <th>4</th>\n",
       "      <td>Noodles &amp; Company</td>\n",
       "      <td>-0.417332</td>\n",
       "      <td>-0.376087</td>\n",
       "      <td>-0.008943</td>\n",
       "      <td>2.894737</td>\n",
       "    </tr>\n",
       "    <tr>\n",
       "      <th>5</th>\n",
       "      <td>Orient House</td>\n",
       "      <td>0.131335</td>\n",
       "      <td>0.137891</td>\n",
       "      <td>-0.179039</td>\n",
       "      <td>3.488550</td>\n",
       "    </tr>\n",
       "    <tr>\n",
       "      <th>6</th>\n",
       "      <td>World Buffet</td>\n",
       "      <td>-0.799988</td>\n",
       "      <td>-0.238134</td>\n",
       "      <td>-0.047105</td>\n",
       "      <td>2.892308</td>\n",
       "    </tr>\n",
       "    <tr>\n",
       "      <th>7</th>\n",
       "      <td>Double 10</td>\n",
       "      <td>-0.068549</td>\n",
       "      <td>-0.411850</td>\n",
       "      <td>0.438345</td>\n",
       "      <td>3.955224</td>\n",
       "    </tr>\n",
       "    <tr>\n",
       "      <th>8</th>\n",
       "      <td>Asian Sweet Bakery</td>\n",
       "      <td>0.097313</td>\n",
       "      <td>0.536490</td>\n",
       "      <td>0.311303</td>\n",
       "      <td>4.340206</td>\n",
       "    </tr>\n",
       "    <tr>\n",
       "      <th>9</th>\n",
       "      <td>Taiwan Little Eats</td>\n",
       "      <td>0.355481</td>\n",
       "      <td>-0.278307</td>\n",
       "      <td>0.076682</td>\n",
       "      <td>4.078125</td>\n",
       "    </tr>\n",
       "    <tr>\n",
       "      <th>10</th>\n",
       "      <td>Soga Shabu Shabu</td>\n",
       "      <td>-0.805146</td>\n",
       "      <td>-0.478058</td>\n",
       "      <td>-1.104705</td>\n",
       "      <td>3.028986</td>\n",
       "    </tr>\n",
       "    <tr>\n",
       "      <th>11</th>\n",
       "      <td>Umami Ramen &amp; Dumpling Bar</td>\n",
       "      <td>0.204935</td>\n",
       "      <td>-0.612160</td>\n",
       "      <td>0.389832</td>\n",
       "      <td>3.694823</td>\n",
       "    </tr>\n",
       "    <tr>\n",
       "      <th>12</th>\n",
       "      <td>VIP</td>\n",
       "      <td>-0.088354</td>\n",
       "      <td>0.172812</td>\n",
       "      <td>-0.361860</td>\n",
       "      <td>3.640000</td>\n",
       "    </tr>\n",
       "    <tr>\n",
       "      <th>13</th>\n",
       "      <td>Jade Garden</td>\n",
       "      <td>-0.153307</td>\n",
       "      <td>0.176930</td>\n",
       "      <td>-0.114873</td>\n",
       "      <td>2.965517</td>\n",
       "    </tr>\n",
       "    <tr>\n",
       "      <th>14</th>\n",
       "      <td>Ichiban Sichuan</td>\n",
       "      <td>0.187644</td>\n",
       "      <td>-0.245518</td>\n",
       "      <td>0.001380</td>\n",
       "      <td>3.623037</td>\n",
       "    </tr>\n",
       "    <tr>\n",
       "      <th>15</th>\n",
       "      <td>Double 10 Mini Hot Pot</td>\n",
       "      <td>0.460187</td>\n",
       "      <td>-0.008415</td>\n",
       "      <td>0.587850</td>\n",
       "      <td>4.516340</td>\n",
       "    </tr>\n",
       "    <tr>\n",
       "      <th>16</th>\n",
       "      <td>Fugu</td>\n",
       "      <td>-0.086585</td>\n",
       "      <td>0.009532</td>\n",
       "      <td>-0.431869</td>\n",
       "      <td>3.280702</td>\n",
       "    </tr>\n",
       "    <tr>\n",
       "      <th>17</th>\n",
       "      <td>Magic Wok</td>\n",
       "      <td>0.237591</td>\n",
       "      <td>-0.014450</td>\n",
       "      <td>0.333336</td>\n",
       "      <td>4.025974</td>\n",
       "    </tr>\n",
       "    <tr>\n",
       "      <th>18</th>\n",
       "      <td>HuHot Mongolian Grill</td>\n",
       "      <td>-0.271193</td>\n",
       "      <td>-0.305702</td>\n",
       "      <td>-0.367609</td>\n",
       "      <td>3.188406</td>\n",
       "    </tr>\n",
       "    <tr>\n",
       "      <th>19</th>\n",
       "      <td>Nani Restaurant</td>\n",
       "      <td>-0.131199</td>\n",
       "      <td>-0.176667</td>\n",
       "      <td>-0.249753</td>\n",
       "      <td>3.543353</td>\n",
       "    </tr>\n",
       "    <tr>\n",
       "      <th>20</th>\n",
       "      <td>Tavernakaya</td>\n",
       "      <td>0.089810</td>\n",
       "      <td>-0.941379</td>\n",
       "      <td>0.314586</td>\n",
       "      <td>3.635838</td>\n",
       "    </tr>\n",
       "    <tr>\n",
       "      <th>21</th>\n",
       "      <td>Hong Kong Station</td>\n",
       "      <td>-0.140604</td>\n",
       "      <td>0.567320</td>\n",
       "      <td>-0.517170</td>\n",
       "      <td>3.358491</td>\n",
       "    </tr>\n",
       "    <tr>\n",
       "      <th>22</th>\n",
       "      <td>Natt Spil</td>\n",
       "      <td>-0.281686</td>\n",
       "      <td>0.130962</td>\n",
       "      <td>-1.055618</td>\n",
       "      <td>3.877005</td>\n",
       "    </tr>\n",
       "    <tr>\n",
       "      <th>23</th>\n",
       "      <td>QQ Express</td>\n",
       "      <td>-0.468645</td>\n",
       "      <td>0.399200</td>\n",
       "      <td>-0.093739</td>\n",
       "      <td>3.288136</td>\n",
       "    </tr>\n",
       "  </tbody>\n",
       "</table>\n",
       "</div>"
      ],
      "text/plain": [
       "                          Name      Food     Price   Service  Avg-stars\n",
       "0                 DumplingHaus  0.022103 -0.324424  0.096001   3.767442\n",
       "1               Hong Kong Cafe -0.936759 -0.757243  0.139010   2.985915\n",
       "2         Bahn Thai Restaurant -0.063567  0.327551 -0.340548   3.532468\n",
       "3                  Flaming Wok -0.103574  0.468692 -0.052243   3.153846\n",
       "4            Noodles & Company -0.417332 -0.376087 -0.008943   2.894737\n",
       "5                 Orient House  0.131335  0.137891 -0.179039   3.488550\n",
       "6                 World Buffet -0.799988 -0.238134 -0.047105   2.892308\n",
       "7                    Double 10 -0.068549 -0.411850  0.438345   3.955224\n",
       "8           Asian Sweet Bakery  0.097313  0.536490  0.311303   4.340206\n",
       "9           Taiwan Little Eats  0.355481 -0.278307  0.076682   4.078125\n",
       "10            Soga Shabu Shabu -0.805146 -0.478058 -1.104705   3.028986\n",
       "11  Umami Ramen & Dumpling Bar  0.204935 -0.612160  0.389832   3.694823\n",
       "12                         VIP -0.088354  0.172812 -0.361860   3.640000\n",
       "13                 Jade Garden -0.153307  0.176930 -0.114873   2.965517\n",
       "14             Ichiban Sichuan  0.187644 -0.245518  0.001380   3.623037\n",
       "15      Double 10 Mini Hot Pot  0.460187 -0.008415  0.587850   4.516340\n",
       "16                        Fugu -0.086585  0.009532 -0.431869   3.280702\n",
       "17                   Magic Wok  0.237591 -0.014450  0.333336   4.025974\n",
       "18       HuHot Mongolian Grill -0.271193 -0.305702 -0.367609   3.188406\n",
       "19             Nani Restaurant -0.131199 -0.176667 -0.249753   3.543353\n",
       "20                 Tavernakaya  0.089810 -0.941379  0.314586   3.635838\n",
       "21           Hong Kong Station -0.140604  0.567320 -0.517170   3.358491\n",
       "22                   Natt Spil -0.281686  0.130962 -1.055618   3.877005\n",
       "23                  QQ Express -0.468645  0.399200 -0.093739   3.288136"
      ]
     },
     "execution_count": 107,
     "metadata": {},
     "output_type": "execute_result"
    }
   ],
   "source": [
    "ranking"
   ]
  },
  {
   "cell_type": "markdown",
   "metadata": {},
   "source": [
    "## (2).Improvement: Credibility"
   ]
  },
  {
   "cell_type": "code",
   "execution_count": 108,
   "metadata": {},
   "outputs": [],
   "source": [
    "tnum_reviews = mad_chi_final['business_id'].groupby(mad_chi_final['business_id']).count()"
   ]
  },
  {
   "cell_type": "code",
   "execution_count": 109,
   "metadata": {},
   "outputs": [],
   "source": [
    "tnum = list(tnum_reviews.values)"
   ]
  },
  {
   "cell_type": "code",
   "execution_count": 110,
   "metadata": {},
   "outputs": [],
   "source": [
    "num_food = []\n",
    "num_price = []\n",
    "num_service = []"
   ]
  },
  {
   "cell_type": "code",
   "execution_count": 111,
   "metadata": {},
   "outputs": [],
   "source": [
    "def food_only(x):\n",
    "    blst = []\n",
    "    for i in range(x.shape[0]):\n",
    "        blst.append(\"food\" in x['text'].iloc[i])\n",
    "    num_food.append(sum(blst))"
   ]
  },
  {
   "cell_type": "code",
   "execution_count": 112,
   "metadata": {},
   "outputs": [],
   "source": [
    "def price_only(x):\n",
    "    blst = []\n",
    "    for i in range(x.shape[0]):\n",
    "        blst.append(\"price\" in x['text'].iloc[i])\n",
    "    num_price.append(sum(blst))"
   ]
  },
  {
   "cell_type": "code",
   "execution_count": 113,
   "metadata": {},
   "outputs": [],
   "source": [
    "def service_only(x):\n",
    "    blst = []\n",
    "    for i in range(x.shape[0]):\n",
    "        blst.append(\"service\" in x['text'].iloc[i])\n",
    "    num_service.append(sum(blst))"
   ]
  },
  {
   "cell_type": "code",
   "execution_count": 114,
   "metadata": {},
   "outputs": [
    {
     "data": {
      "text/html": [
       "<div>\n",
       "<style scoped>\n",
       "    .dataframe tbody tr th:only-of-type {\n",
       "        vertical-align: middle;\n",
       "    }\n",
       "\n",
       "    .dataframe tbody tr th {\n",
       "        vertical-align: top;\n",
       "    }\n",
       "\n",
       "    .dataframe thead th {\n",
       "        text-align: right;\n",
       "    }\n",
       "</style>\n",
       "<table border=\"1\" class=\"dataframe\">\n",
       "  <thead>\n",
       "    <tr style=\"text-align: right;\">\n",
       "      <th></th>\n",
       "    </tr>\n",
       "  </thead>\n",
       "  <tbody>\n",
       "  </tbody>\n",
       "</table>\n",
       "</div>"
      ],
      "text/plain": [
       "Empty DataFrame\n",
       "Columns: []\n",
       "Index: []"
      ]
     },
     "execution_count": 114,
     "metadata": {},
     "output_type": "execute_result"
    }
   ],
   "source": [
    "pd.DataFrame(mad_chi_final['text']).groupby(mad_chi_final['business_id']).apply(food_only)\n",
    "pd.DataFrame(mad_chi_final['text']).groupby(mad_chi_final['business_id']).apply(price_only)\n",
    "pd.DataFrame(mad_chi_final['text']).groupby(mad_chi_final['business_id']).apply(service_only)"
   ]
  },
  {
   "cell_type": "code",
   "execution_count": 115,
   "metadata": {},
   "outputs": [],
   "source": [
    "num_food = num_food[1:]\n",
    "num_price = num_price[1:]\n",
    "num_service = num_service[1:]"
   ]
  },
  {
   "cell_type": "code",
   "execution_count": 116,
   "metadata": {},
   "outputs": [],
   "source": [
    "food_ratio = []\n",
    "price_ratio = []\n",
    "service_ratio = []"
   ]
  },
  {
   "cell_type": "code",
   "execution_count": 117,
   "metadata": {},
   "outputs": [],
   "source": [
    "for i in range(len(tnum)):\n",
    "    food_ratio.append(num_food[i]/tnum[i])\n",
    "    price_ratio.append(num_price[i]/tnum[i])\n",
    "    service_ratio.append(num_service[i]/tnum[i])"
   ]
  },
  {
   "cell_type": "code",
   "execution_count": 118,
   "metadata": {},
   "outputs": [],
   "source": [
    "food_new = []\n",
    "price_new = []\n",
    "service_new = []"
   ]
  },
  {
   "cell_type": "code",
   "execution_count": 119,
   "metadata": {},
   "outputs": [],
   "source": [
    "for i in range(len(tnum)):\n",
    "    food_new.append(ranking['Food'].iloc[i]*food_ratio[i])\n",
    "    price_new.append(ranking['Price'].iloc[i]*price_ratio[i])\n",
    "    service_new.append(ranking['Service'].iloc[i]*service_ratio[i])"
   ]
  },
  {
   "cell_type": "code",
   "execution_count": 120,
   "metadata": {},
   "outputs": [],
   "source": [
    "ranking['Food'] = food_new\n",
    "ranking['Price'] = price_new\n",
    "ranking['Service'] = service_new"
   ]
  },
  {
   "cell_type": "code",
   "execution_count": 121,
   "metadata": {},
   "outputs": [
    {
     "data": {
      "text/html": [
       "<div>\n",
       "<style scoped>\n",
       "    .dataframe tbody tr th:only-of-type {\n",
       "        vertical-align: middle;\n",
       "    }\n",
       "\n",
       "    .dataframe tbody tr th {\n",
       "        vertical-align: top;\n",
       "    }\n",
       "\n",
       "    .dataframe thead th {\n",
       "        text-align: right;\n",
       "    }\n",
       "</style>\n",
       "<table border=\"1\" class=\"dataframe\">\n",
       "  <thead>\n",
       "    <tr style=\"text-align: right;\">\n",
       "      <th></th>\n",
       "      <th>Name</th>\n",
       "      <th>Food</th>\n",
       "      <th>Price</th>\n",
       "      <th>Service</th>\n",
       "      <th>Avg-stars</th>\n",
       "    </tr>\n",
       "  </thead>\n",
       "  <tbody>\n",
       "    <tr>\n",
       "      <th>0</th>\n",
       "      <td>DumplingHaus</td>\n",
       "      <td>0.011994</td>\n",
       "      <td>-0.095567</td>\n",
       "      <td>0.019349</td>\n",
       "      <td>3.767442</td>\n",
       "    </tr>\n",
       "    <tr>\n",
       "      <th>1</th>\n",
       "      <td>Hong Kong Cafe</td>\n",
       "      <td>-0.540945</td>\n",
       "      <td>-0.117319</td>\n",
       "      <td>0.041116</td>\n",
       "      <td>2.985915</td>\n",
       "    </tr>\n",
       "    <tr>\n",
       "      <th>2</th>\n",
       "      <td>Bahn Thai Restaurant</td>\n",
       "      <td>-0.040452</td>\n",
       "      <td>0.021270</td>\n",
       "      <td>-0.119413</td>\n",
       "      <td>3.532468</td>\n",
       "    </tr>\n",
       "    <tr>\n",
       "      <th>3</th>\n",
       "      <td>Flaming Wok</td>\n",
       "      <td>-0.075689</td>\n",
       "      <td>0.084124</td>\n",
       "      <td>-0.009377</td>\n",
       "      <td>3.153846</td>\n",
       "    </tr>\n",
       "    <tr>\n",
       "      <th>4</th>\n",
       "      <td>Noodles &amp; Company</td>\n",
       "      <td>-0.214157</td>\n",
       "      <td>-0.024743</td>\n",
       "      <td>-0.001530</td>\n",
       "      <td>2.894737</td>\n",
       "    </tr>\n",
       "    <tr>\n",
       "      <th>5</th>\n",
       "      <td>Orient House</td>\n",
       "      <td>0.090230</td>\n",
       "      <td>0.032631</td>\n",
       "      <td>-0.042368</td>\n",
       "      <td>3.488550</td>\n",
       "    </tr>\n",
       "    <tr>\n",
       "      <th>6</th>\n",
       "      <td>World Buffet</td>\n",
       "      <td>-0.615376</td>\n",
       "      <td>-0.040300</td>\n",
       "      <td>-0.008696</td>\n",
       "      <td>2.892308</td>\n",
       "    </tr>\n",
       "    <tr>\n",
       "      <th>7</th>\n",
       "      <td>Double 10</td>\n",
       "      <td>-0.042971</td>\n",
       "      <td>-0.073764</td>\n",
       "      <td>0.058882</td>\n",
       "      <td>3.955224</td>\n",
       "    </tr>\n",
       "    <tr>\n",
       "      <th>8</th>\n",
       "      <td>Asian Sweet Bakery</td>\n",
       "      <td>0.041132</td>\n",
       "      <td>0.188048</td>\n",
       "      <td>0.025674</td>\n",
       "      <td>4.340206</td>\n",
       "    </tr>\n",
       "    <tr>\n",
       "      <th>9</th>\n",
       "      <td>Taiwan Little Eats</td>\n",
       "      <td>0.233284</td>\n",
       "      <td>-0.060880</td>\n",
       "      <td>0.008387</td>\n",
       "      <td>4.078125</td>\n",
       "    </tr>\n",
       "    <tr>\n",
       "      <th>10</th>\n",
       "      <td>Soga Shabu Shabu</td>\n",
       "      <td>-0.525095</td>\n",
       "      <td>-0.096997</td>\n",
       "      <td>-0.432276</td>\n",
       "      <td>3.028986</td>\n",
       "    </tr>\n",
       "    <tr>\n",
       "      <th>11</th>\n",
       "      <td>Umami Ramen &amp; Dumpling Bar</td>\n",
       "      <td>0.084320</td>\n",
       "      <td>-0.083400</td>\n",
       "      <td>0.121092</td>\n",
       "      <td>3.694823</td>\n",
       "    </tr>\n",
       "    <tr>\n",
       "      <th>12</th>\n",
       "      <td>VIP</td>\n",
       "      <td>-0.049037</td>\n",
       "      <td>0.045795</td>\n",
       "      <td>-0.166455</td>\n",
       "      <td>3.640000</td>\n",
       "    </tr>\n",
       "    <tr>\n",
       "      <th>13</th>\n",
       "      <td>Jade Garden</td>\n",
       "      <td>-0.108372</td>\n",
       "      <td>0.021354</td>\n",
       "      <td>-0.009903</td>\n",
       "      <td>2.965517</td>\n",
       "    </tr>\n",
       "    <tr>\n",
       "      <th>14</th>\n",
       "      <td>Ichiban Sichuan</td>\n",
       "      <td>0.142453</td>\n",
       "      <td>-0.044990</td>\n",
       "      <td>0.000354</td>\n",
       "      <td>3.623037</td>\n",
       "    </tr>\n",
       "    <tr>\n",
       "      <th>15</th>\n",
       "      <td>Double 10 Mini Hot Pot</td>\n",
       "      <td>0.261675</td>\n",
       "      <td>-0.002475</td>\n",
       "      <td>0.153686</td>\n",
       "      <td>4.516340</td>\n",
       "    </tr>\n",
       "    <tr>\n",
       "      <th>16</th>\n",
       "      <td>Fugu</td>\n",
       "      <td>-0.061774</td>\n",
       "      <td>0.001561</td>\n",
       "      <td>-0.133854</td>\n",
       "      <td>3.280702</td>\n",
       "    </tr>\n",
       "    <tr>\n",
       "      <th>17</th>\n",
       "      <td>Magic Wok</td>\n",
       "      <td>0.151195</td>\n",
       "      <td>-0.001877</td>\n",
       "      <td>0.043290</td>\n",
       "      <td>4.025974</td>\n",
       "    </tr>\n",
       "    <tr>\n",
       "      <th>18</th>\n",
       "      <td>HuHot Mongolian Grill</td>\n",
       "      <td>-0.194552</td>\n",
       "      <td>-0.042089</td>\n",
       "      <td>-0.122536</td>\n",
       "      <td>3.188406</td>\n",
       "    </tr>\n",
       "    <tr>\n",
       "      <th>19</th>\n",
       "      <td>Nani Restaurant</td>\n",
       "      <td>-0.071287</td>\n",
       "      <td>-0.026551</td>\n",
       "      <td>-0.101056</td>\n",
       "      <td>3.543353</td>\n",
       "    </tr>\n",
       "    <tr>\n",
       "      <th>20</th>\n",
       "      <td>Tavernakaya</td>\n",
       "      <td>0.052432</td>\n",
       "      <td>-0.223101</td>\n",
       "      <td>0.123652</td>\n",
       "      <td>3.635838</td>\n",
       "    </tr>\n",
       "    <tr>\n",
       "      <th>21</th>\n",
       "      <td>Hong Kong Station</td>\n",
       "      <td>-0.087546</td>\n",
       "      <td>0.085633</td>\n",
       "      <td>-0.234190</td>\n",
       "      <td>3.358491</td>\n",
       "    </tr>\n",
       "    <tr>\n",
       "      <th>22</th>\n",
       "      <td>Natt Spil</td>\n",
       "      <td>-0.149128</td>\n",
       "      <td>0.013306</td>\n",
       "      <td>-0.231446</td>\n",
       "      <td>3.877005</td>\n",
       "    </tr>\n",
       "    <tr>\n",
       "      <th>23</th>\n",
       "      <td>QQ Express</td>\n",
       "      <td>-0.373328</td>\n",
       "      <td>0.101492</td>\n",
       "      <td>-0.020654</td>\n",
       "      <td>3.288136</td>\n",
       "    </tr>\n",
       "  </tbody>\n",
       "</table>\n",
       "</div>"
      ],
      "text/plain": [
       "                          Name      Food     Price   Service  Avg-stars\n",
       "0                 DumplingHaus  0.011994 -0.095567  0.019349   3.767442\n",
       "1               Hong Kong Cafe -0.540945 -0.117319  0.041116   2.985915\n",
       "2         Bahn Thai Restaurant -0.040452  0.021270 -0.119413   3.532468\n",
       "3                  Flaming Wok -0.075689  0.084124 -0.009377   3.153846\n",
       "4            Noodles & Company -0.214157 -0.024743 -0.001530   2.894737\n",
       "5                 Orient House  0.090230  0.032631 -0.042368   3.488550\n",
       "6                 World Buffet -0.615376 -0.040300 -0.008696   2.892308\n",
       "7                    Double 10 -0.042971 -0.073764  0.058882   3.955224\n",
       "8           Asian Sweet Bakery  0.041132  0.188048  0.025674   4.340206\n",
       "9           Taiwan Little Eats  0.233284 -0.060880  0.008387   4.078125\n",
       "10            Soga Shabu Shabu -0.525095 -0.096997 -0.432276   3.028986\n",
       "11  Umami Ramen & Dumpling Bar  0.084320 -0.083400  0.121092   3.694823\n",
       "12                         VIP -0.049037  0.045795 -0.166455   3.640000\n",
       "13                 Jade Garden -0.108372  0.021354 -0.009903   2.965517\n",
       "14             Ichiban Sichuan  0.142453 -0.044990  0.000354   3.623037\n",
       "15      Double 10 Mini Hot Pot  0.261675 -0.002475  0.153686   4.516340\n",
       "16                        Fugu -0.061774  0.001561 -0.133854   3.280702\n",
       "17                   Magic Wok  0.151195 -0.001877  0.043290   4.025974\n",
       "18       HuHot Mongolian Grill -0.194552 -0.042089 -0.122536   3.188406\n",
       "19             Nani Restaurant -0.071287 -0.026551 -0.101056   3.543353\n",
       "20                 Tavernakaya  0.052432 -0.223101  0.123652   3.635838\n",
       "21           Hong Kong Station -0.087546  0.085633 -0.234190   3.358491\n",
       "22                   Natt Spil -0.149128  0.013306 -0.231446   3.877005\n",
       "23                  QQ Express -0.373328  0.101492 -0.020654   3.288136"
      ]
     },
     "execution_count": 121,
     "metadata": {},
     "output_type": "execute_result"
    }
   ],
   "source": [
    "ranking"
   ]
  },
  {
   "cell_type": "markdown",
   "metadata": {},
   "source": [
    "## (3).Final ranking"
   ]
  },
  {
   "cell_type": "code",
   "execution_count": 122,
   "metadata": {},
   "outputs": [],
   "source": [
    "cor_coe = []"
   ]
  },
  {
   "cell_type": "code",
   "execution_count": 123,
   "metadata": {},
   "outputs": [],
   "source": [
    "reg = LinearRegression()"
   ]
  },
  {
   "cell_type": "code",
   "execution_count": 124,
   "metadata": {},
   "outputs": [],
   "source": [
    "X = pd.DataFrame(ranking['Food']) #'Food','Price','Service'\n",
    "y = ranking['Avg-stars']\n",
    "reg.fit(X,y)\n",
    "cor_coe.append(reg.score(X, y))"
   ]
  },
  {
   "cell_type": "code",
   "execution_count": 125,
   "metadata": {},
   "outputs": [],
   "source": [
    "X = pd.DataFrame(ranking['Price']) #'Food','Price','Service'\n",
    "y = ranking['Avg-stars']\n",
    "reg.fit(X,y)\n",
    "cor_coe.append(reg.score(X, y))"
   ]
  },
  {
   "cell_type": "code",
   "execution_count": 126,
   "metadata": {},
   "outputs": [],
   "source": [
    "X = pd.DataFrame(ranking['Service']) #'Food','Price','Service'\n",
    "y = ranking['Avg-stars']\n",
    "reg.fit(X,y)\n",
    "cor_coe.append(reg.score(X, y))"
   ]
  },
  {
   "cell_type": "code",
   "execution_count": 127,
   "metadata": {},
   "outputs": [],
   "source": [
    "final_score = pd.DataFrame(ranking['Food']*cor_coe[0]+ranking['Price']*cor_coe[1]+ranking['Service']*cor_coe[2],columns=['Final_Score'])"
   ]
  },
  {
   "cell_type": "code",
   "execution_count": 128,
   "metadata": {},
   "outputs": [],
   "source": [
    "ranking_f = pd.concat([ranking,final_score],axis=1)"
   ]
  },
  {
   "cell_type": "code",
   "execution_count": 129,
   "metadata": {},
   "outputs": [],
   "source": [
    "c = np.argsort(ranking_f['Food'])[::-1] #'Food','Price','Service','Final_Score'\n",
    "c_f = list(range(ranking.shape[0]))\n",
    "a = 1\n",
    "for i in range(len(c_f)):\n",
    "    c_f[list(c.values)[i]] = a\n",
    "    a += 1\n",
    "ranking_f['Food'] = c_f #'Food','Price','Service','Final_Score'"
   ]
  },
  {
   "cell_type": "code",
   "execution_count": 130,
   "metadata": {},
   "outputs": [],
   "source": [
    "c = np.argsort(ranking_f['Price'])[::-1] #'Food','Price','Service','Final_Score'\n",
    "c_f = list(range(ranking.shape[0]))\n",
    "a = 1\n",
    "for i in range(len(c_f)):\n",
    "    c_f[list(c.values)[i]] = a\n",
    "    a += 1\n",
    "ranking_f['Price'] = c_f #'Food','Price','Service','Final_Score'"
   ]
  },
  {
   "cell_type": "code",
   "execution_count": 131,
   "metadata": {},
   "outputs": [],
   "source": [
    "c = np.argsort(ranking_f['Service'])[::-1] #'Food','Price','Service','Final_Score'\n",
    "c_f = list(range(ranking.shape[0]))\n",
    "a = 1\n",
    "for i in range(len(c_f)):\n",
    "    c_f[list(c.values)[i]] = a\n",
    "    a += 1\n",
    "ranking_f['Service'] = c_f #'Food','Price','Service','Final_Score'"
   ]
  },
  {
   "cell_type": "code",
   "execution_count": 132,
   "metadata": {},
   "outputs": [],
   "source": [
    "c = np.argsort(ranking_f['Final_Score'])[::-1] #'Food','Price','Service','Final_Score'\n",
    "c_f = list(range(ranking.shape[0]))\n",
    "a = 1\n",
    "for i in range(len(c_f)):\n",
    "    c_f[list(c.values)[i]] = a\n",
    "    a += 1\n",
    "ranking_f['Final_Score'] = c_f #'Food','Price','Service','Final_Score'"
   ]
  },
  {
   "cell_type": "code",
   "execution_count": 133,
   "metadata": {},
   "outputs": [],
   "source": [
    "ranking_f = ranking_f.sort_values(by = ['Final_Score'])"
   ]
  },
  {
   "cell_type": "code",
   "execution_count": 134,
   "metadata": {},
   "outputs": [
    {
     "data": {
      "text/html": [
       "<div>\n",
       "<style scoped>\n",
       "    .dataframe tbody tr th:only-of-type {\n",
       "        vertical-align: middle;\n",
       "    }\n",
       "\n",
       "    .dataframe tbody tr th {\n",
       "        vertical-align: top;\n",
       "    }\n",
       "\n",
       "    .dataframe thead th {\n",
       "        text-align: right;\n",
       "    }\n",
       "</style>\n",
       "<table border=\"1\" class=\"dataframe\">\n",
       "  <thead>\n",
       "    <tr style=\"text-align: right;\">\n",
       "      <th></th>\n",
       "      <th>Name</th>\n",
       "      <th>Food</th>\n",
       "      <th>Price</th>\n",
       "      <th>Service</th>\n",
       "      <th>Avg-stars</th>\n",
       "      <th>Final_Score</th>\n",
       "    </tr>\n",
       "  </thead>\n",
       "  <tbody>\n",
       "    <tr>\n",
       "      <th>15</th>\n",
       "      <td>Double 10 Mini Hot Pot</td>\n",
       "      <td>1</td>\n",
       "      <td>12</td>\n",
       "      <td>1</td>\n",
       "      <td>4.516340</td>\n",
       "      <td>1</td>\n",
       "    </tr>\n",
       "    <tr>\n",
       "      <th>9</th>\n",
       "      <td>Taiwan Little Eats</td>\n",
       "      <td>2</td>\n",
       "      <td>18</td>\n",
       "      <td>9</td>\n",
       "      <td>4.078125</td>\n",
       "      <td>2</td>\n",
       "    </tr>\n",
       "    <tr>\n",
       "      <th>17</th>\n",
       "      <td>Magic Wok</td>\n",
       "      <td>3</td>\n",
       "      <td>11</td>\n",
       "      <td>5</td>\n",
       "      <td>4.025974</td>\n",
       "      <td>3</td>\n",
       "    </tr>\n",
       "    <tr>\n",
       "      <th>14</th>\n",
       "      <td>Ichiban Sichuan</td>\n",
       "      <td>4</td>\n",
       "      <td>17</td>\n",
       "      <td>10</td>\n",
       "      <td>3.623037</td>\n",
       "      <td>4</td>\n",
       "    </tr>\n",
       "    <tr>\n",
       "      <th>11</th>\n",
       "      <td>Umami Ramen &amp; Dumpling Bar</td>\n",
       "      <td>6</td>\n",
       "      <td>20</td>\n",
       "      <td>3</td>\n",
       "      <td>3.694823</td>\n",
       "      <td>5</td>\n",
       "    </tr>\n",
       "    <tr>\n",
       "      <th>5</th>\n",
       "      <td>Orient House</td>\n",
       "      <td>5</td>\n",
       "      <td>6</td>\n",
       "      <td>16</td>\n",
       "      <td>3.488550</td>\n",
       "      <td>6</td>\n",
       "    </tr>\n",
       "    <tr>\n",
       "      <th>20</th>\n",
       "      <td>Tavernakaya</td>\n",
       "      <td>7</td>\n",
       "      <td>24</td>\n",
       "      <td>2</td>\n",
       "      <td>3.635838</td>\n",
       "      <td>7</td>\n",
       "    </tr>\n",
       "    <tr>\n",
       "      <th>8</th>\n",
       "      <td>Asian Sweet Bakery</td>\n",
       "      <td>8</td>\n",
       "      <td>1</td>\n",
       "      <td>7</td>\n",
       "      <td>4.340206</td>\n",
       "      <td>8</td>\n",
       "    </tr>\n",
       "    <tr>\n",
       "      <th>0</th>\n",
       "      <td>DumplingHaus</td>\n",
       "      <td>9</td>\n",
       "      <td>21</td>\n",
       "      <td>8</td>\n",
       "      <td>3.767442</td>\n",
       "      <td>9</td>\n",
       "    </tr>\n",
       "    <tr>\n",
       "      <th>7</th>\n",
       "      <td>Double 10</td>\n",
       "      <td>11</td>\n",
       "      <td>19</td>\n",
       "      <td>4</td>\n",
       "      <td>3.955224</td>\n",
       "      <td>10</td>\n",
       "    </tr>\n",
       "    <tr>\n",
       "      <th>2</th>\n",
       "      <td>Bahn Thai Restaurant</td>\n",
       "      <td>10</td>\n",
       "      <td>8</td>\n",
       "      <td>18</td>\n",
       "      <td>3.532468</td>\n",
       "      <td>11</td>\n",
       "    </tr>\n",
       "    <tr>\n",
       "      <th>3</th>\n",
       "      <td>Flaming Wok</td>\n",
       "      <td>15</td>\n",
       "      <td>4</td>\n",
       "      <td>13</td>\n",
       "      <td>3.153846</td>\n",
       "      <td>12</td>\n",
       "    </tr>\n",
       "    <tr>\n",
       "      <th>12</th>\n",
       "      <td>VIP</td>\n",
       "      <td>12</td>\n",
       "      <td>5</td>\n",
       "      <td>21</td>\n",
       "      <td>3.640000</td>\n",
       "      <td>13</td>\n",
       "    </tr>\n",
       "    <tr>\n",
       "      <th>16</th>\n",
       "      <td>Fugu</td>\n",
       "      <td>13</td>\n",
       "      <td>10</td>\n",
       "      <td>20</td>\n",
       "      <td>3.280702</td>\n",
       "      <td>14</td>\n",
       "    </tr>\n",
       "    <tr>\n",
       "      <th>19</th>\n",
       "      <td>Nani Restaurant</td>\n",
       "      <td>14</td>\n",
       "      <td>14</td>\n",
       "      <td>17</td>\n",
       "      <td>3.543353</td>\n",
       "      <td>15</td>\n",
       "    </tr>\n",
       "    <tr>\n",
       "      <th>13</th>\n",
       "      <td>Jade Garden</td>\n",
       "      <td>17</td>\n",
       "      <td>7</td>\n",
       "      <td>14</td>\n",
       "      <td>2.965517</td>\n",
       "      <td>16</td>\n",
       "    </tr>\n",
       "    <tr>\n",
       "      <th>21</th>\n",
       "      <td>Hong Kong Station</td>\n",
       "      <td>16</td>\n",
       "      <td>3</td>\n",
       "      <td>23</td>\n",
       "      <td>3.358491</td>\n",
       "      <td>17</td>\n",
       "    </tr>\n",
       "    <tr>\n",
       "      <th>22</th>\n",
       "      <td>Natt Spil</td>\n",
       "      <td>18</td>\n",
       "      <td>9</td>\n",
       "      <td>22</td>\n",
       "      <td>3.877005</td>\n",
       "      <td>18</td>\n",
       "    </tr>\n",
       "    <tr>\n",
       "      <th>4</th>\n",
       "      <td>Noodles &amp; Company</td>\n",
       "      <td>20</td>\n",
       "      <td>13</td>\n",
       "      <td>11</td>\n",
       "      <td>2.894737</td>\n",
       "      <td>19</td>\n",
       "    </tr>\n",
       "    <tr>\n",
       "      <th>18</th>\n",
       "      <td>HuHot Mongolian Grill</td>\n",
       "      <td>19</td>\n",
       "      <td>16</td>\n",
       "      <td>19</td>\n",
       "      <td>3.188406</td>\n",
       "      <td>20</td>\n",
       "    </tr>\n",
       "    <tr>\n",
       "      <th>23</th>\n",
       "      <td>QQ Express</td>\n",
       "      <td>21</td>\n",
       "      <td>2</td>\n",
       "      <td>15</td>\n",
       "      <td>3.288136</td>\n",
       "      <td>21</td>\n",
       "    </tr>\n",
       "    <tr>\n",
       "      <th>1</th>\n",
       "      <td>Hong Kong Cafe</td>\n",
       "      <td>23</td>\n",
       "      <td>23</td>\n",
       "      <td>6</td>\n",
       "      <td>2.985915</td>\n",
       "      <td>22</td>\n",
       "    </tr>\n",
       "    <tr>\n",
       "      <th>6</th>\n",
       "      <td>World Buffet</td>\n",
       "      <td>24</td>\n",
       "      <td>15</td>\n",
       "      <td>12</td>\n",
       "      <td>2.892308</td>\n",
       "      <td>23</td>\n",
       "    </tr>\n",
       "    <tr>\n",
       "      <th>10</th>\n",
       "      <td>Soga Shabu Shabu</td>\n",
       "      <td>22</td>\n",
       "      <td>22</td>\n",
       "      <td>24</td>\n",
       "      <td>3.028986</td>\n",
       "      <td>24</td>\n",
       "    </tr>\n",
       "  </tbody>\n",
       "</table>\n",
       "</div>"
      ],
      "text/plain": [
       "                          Name  Food  Price  Service  Avg-stars  Final_Score\n",
       "15      Double 10 Mini Hot Pot     1     12        1   4.516340            1\n",
       "9           Taiwan Little Eats     2     18        9   4.078125            2\n",
       "17                   Magic Wok     3     11        5   4.025974            3\n",
       "14             Ichiban Sichuan     4     17       10   3.623037            4\n",
       "11  Umami Ramen & Dumpling Bar     6     20        3   3.694823            5\n",
       "5                 Orient House     5      6       16   3.488550            6\n",
       "20                 Tavernakaya     7     24        2   3.635838            7\n",
       "8           Asian Sweet Bakery     8      1        7   4.340206            8\n",
       "0                 DumplingHaus     9     21        8   3.767442            9\n",
       "7                    Double 10    11     19        4   3.955224           10\n",
       "2         Bahn Thai Restaurant    10      8       18   3.532468           11\n",
       "3                  Flaming Wok    15      4       13   3.153846           12\n",
       "12                         VIP    12      5       21   3.640000           13\n",
       "16                        Fugu    13     10       20   3.280702           14\n",
       "19             Nani Restaurant    14     14       17   3.543353           15\n",
       "13                 Jade Garden    17      7       14   2.965517           16\n",
       "21           Hong Kong Station    16      3       23   3.358491           17\n",
       "22                   Natt Spil    18      9       22   3.877005           18\n",
       "4            Noodles & Company    20     13       11   2.894737           19\n",
       "18       HuHot Mongolian Grill    19     16       19   3.188406           20\n",
       "23                  QQ Express    21      2       15   3.288136           21\n",
       "1               Hong Kong Cafe    23     23        6   2.985915           22\n",
       "6                 World Buffet    24     15       12   2.892308           23\n",
       "10            Soga Shabu Shabu    22     22       24   3.028986           24"
      ]
     },
     "execution_count": 134,
     "metadata": {},
     "output_type": "execute_result"
    }
   ],
   "source": [
    "ranking_f"
   ]
  },
  {
   "cell_type": "markdown",
   "metadata": {},
   "source": [
    "# 4.Advice on QQ Express(Demo)"
   ]
  },
  {
   "cell_type": "code",
   "execution_count": 143,
   "metadata": {},
   "outputs": [
    {
     "name": "stdout",
     "output_type": "stream",
     "text": [
      "reasonably    2\n",
      "priced        2\n",
      "excellent     1\n",
      "definitely    1\n",
      "glad          1\n",
      "ordered       1\n",
      "better        1\n",
      "reasonable    1\n",
      "great         1\n",
      "good          1\n",
      "notthat       1\n",
      "fast          1\n",
      "fantastic     1\n",
      "worth         1\n",
      "dtype: int64\n",
      "\n",
      "Since the ranking of price of QQ Express is No.2, we do not need to improve it.\n"
     ]
    }
   ],
   "source": [
    "blst = []\n",
    "for i in range(qq_text.shape[0]):\n",
    "    blst.append(\"price\" in qq_text['text'].iloc[i])\n",
    "lst = list(range(qq_text.shape[0]))\n",
    "lst_price = list(compress(lst,blst))\n",
    "qq_price = qq_text.iloc[lst_price]\n",
    "lst_p = []\n",
    "for var in qq_price['text']:\n",
    "    lst_p.append(price(var))\n",
    "df_p = pd.DataFrame(lst_p,columns=['text'])\n",
    "df_p_adjs = df_p['text'].apply(sentenceClean4)\n",
    "qq_price_adjs = pd.value_counts(' '.join(list(np.unique(df_p_adjs))).split())\n",
    "print(qq_price_adjs )\n",
    "print(\"\\nSince the ranking of price of QQ Express is No.2, we do not need to improve it.\")"
   ]
  },
  {
   "cell_type": "code",
   "execution_count": 144,
   "metadata": {},
   "outputs": [
    {
     "name": "stdout",
     "output_type": "stream",
     "text": [
      "fast         5\n",
      "single       2\n",
      "average      1\n",
      "no           1\n",
      "notexpect    1\n",
      "friendly     1\n",
      "notbusy      1\n",
      "however      1\n",
      "terrible     1\n",
      "great        1\n",
      "good         1\n",
      "highly       1\n",
      "greeted      1\n",
      "rude         1\n",
      "notreally    1\n",
      "dtype: int64\n",
      "\n",
      "The ranking of service of QQ Express seems not too bad, if we want to improve it, try to be more polite.\n"
     ]
    }
   ],
   "source": [
    "blst = []\n",
    "for i in range(qq_text.shape[0]):\n",
    "    blst.append(\"service\" in qq_text['text'].iloc[i]) #\n",
    "lst = list(range(qq_text.shape[0]))\n",
    "lst_service = list(compress(lst,blst))\n",
    "qq_service = qq_text.iloc[lst_service]\n",
    "lst_s = []\n",
    "for var in qq_service['text']:\n",
    "    lst_s.append(service(var)) #\n",
    "df_s = pd.DataFrame(lst_s,columns=['text'])\n",
    "df_s_adjs = df_s['text'].apply(sentenceClean4)\n",
    "qq_service_adjs = pd.value_counts(' '.join(list(np.unique(df_s_adjs))).split())\n",
    "print(qq_service_adjs)\n",
    "print(\"\\nThe ranking of service of QQ Express seems not too bad, if we want to improve it, try to be more polite.\")"
   ]
  },
  {
   "cell_type": "code",
   "execution_count": 145,
   "metadata": {},
   "outputs": [
    {
     "name": "stdout",
     "output_type": "stream",
     "text": [
      "good         10\n",
      "greasy        9\n",
      "fast          8\n",
      "authentic     5\n",
      "okay          5\n",
      "great         5\n",
      "ordered       4\n",
      "used          4\n",
      "better        4\n",
      "best          4\n",
      "no            4\n",
      "dtype: int64\n",
      "\n",
      "The ranking of food of QQ Express is too bad, I think the most likely reason is their food is too greasy, thus, they should change their food to be more fresh. \n"
     ]
    }
   ],
   "source": [
    "blst = []\n",
    "for i in range(qq_text.shape[0]):\n",
    "    blst.append(\"food\" in qq_text['text'].iloc[i]) #\n",
    "lst = list(range(qq_text.shape[0]))\n",
    "lst_food = list(compress(lst,blst))\n",
    "qq_food = qq_text.iloc[lst_food]\n",
    "lst_f = []\n",
    "for var in qq_food['text']:\n",
    "    lst_f.append(food(var)) #\n",
    "df_f = pd.DataFrame(lst_f,columns=['text'])\n",
    "df_f_adjs = df_f['text'].apply(sentenceClean4)\n",
    "qq_food_adjs = pd.value_counts(' '.join(list(np.unique(df_f_adjs))).split())\n",
    "print(qq_food_adjs[qq_food_adjs.values>=4])\n",
    "print(\"\\nThe ranking of food of QQ Express is too bad, I think the most likely reason is their food is too greasy, thus, they should change their food to be more fresh. \")"
   ]
  }
 ],
 "metadata": {
  "kernelspec": {
   "display_name": "Python 3",
   "language": "python",
   "name": "python3"
  },
  "language_info": {
   "codemirror_mode": {
    "name": "ipython",
    "version": 3
   },
   "file_extension": ".py",
   "mimetype": "text/x-python",
   "name": "python",
   "nbconvert_exporter": "python",
   "pygments_lexer": "ipython3",
   "version": "3.6.7"
  }
 },
 "nbformat": 4,
 "nbformat_minor": 2
}
